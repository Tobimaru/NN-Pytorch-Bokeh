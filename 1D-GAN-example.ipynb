{
 "cells": [
  {
   "cell_type": "markdown",
   "metadata": {},
   "source": [
    "## 1D GAN distribution sampling\n",
    "\n",
    "This notebook contains a PyTorch implementation of a classic one-dimensional GAN example. It's a relatively simple problem in which the generator tries to mimic a Gaussian distribution. The generator is fed by sampling a noise distribution while the discriminator tries to distinguish between samples drawn from the Gaussian distribution and samples constructed by the generator using noise samples as input.\n",
    "\n",
    "Several implementations have been proposed on the internet, and the goal is to illustrate impact of different models and the evolution of GAN training techniques (still work in progress, so far only a vanilla GAN has been implemented).\n",
    "More detailed descriptions of the problem can be found in the following blogs:\n",
    "\n",
    "http://blog.aylien.com/introduction-generative-adversarial-networks-code-tensorflow/\n",
    "\n",
    "https://blog.evjang.com/2016/06/generative-adversarial-nets-in.html\n",
    "\n",
    "https://medium.com/@devnag/generative-adversarial-networks-gans-in-50-lines-of-code-pytorch-e81b79659e3f\n"
   ]
  },
  {
   "cell_type": "code",
   "execution_count": 1,
   "metadata": {
    "collapsed": true
   },
   "outputs": [],
   "source": [
    "import numpy as np\n",
    "\n",
    "import torch\n",
    "from torch.autograd import Variable\n",
    "import torch.nn as nn\n",
    "import torch.optim as optim\n",
    "from torch.utils.data import Dataset, ConcatDataset, DataLoader\n",
    "\n",
    "from bokeh.models import ColumnDataSource\n",
    "from bokeh.plotting import output_notebook, figure, show\n",
    "from bokeh.layouts import row\n",
    "from bokeh.io import push_notebook"
   ]
  },
  {
   "cell_type": "code",
   "execution_count": 2,
   "metadata": {
    "scrolled": true
   },
   "outputs": [
    {
     "data": {
      "text/html": [
       "\n",
       "    <div class=\"bk-root\">\n",
       "        <a href=\"https://bokeh.pydata.org\" target=\"_blank\" class=\"bk-logo bk-logo-small bk-logo-notebook\"></a>\n",
       "        <span id=\"969b293d-d84c-47d6-934f-147f19a94105\">Loading BokehJS ...</span>\n",
       "    </div>"
      ]
     },
     "metadata": {},
     "output_type": "display_data"
    },
    {
     "data": {
      "application/javascript": [
       "\n",
       "(function(root) {\n",
       "  function now() {\n",
       "    return new Date();\n",
       "  }\n",
       "\n",
       "  var force = true;\n",
       "\n",
       "  if (typeof (root._bokeh_onload_callbacks) === \"undefined\" || force === true) {\n",
       "    root._bokeh_onload_callbacks = [];\n",
       "    root._bokeh_is_loading = undefined;\n",
       "  }\n",
       "\n",
       "  var JS_MIME_TYPE = 'application/javascript';\n",
       "  var HTML_MIME_TYPE = 'text/html';\n",
       "  var EXEC_MIME_TYPE = 'application/vnd.bokehjs_exec.v0+json';\n",
       "  var CLASS_NAME = 'output_bokeh rendered_html';\n",
       "\n",
       "  /**\n",
       "   * Render data to the DOM node\n",
       "   */\n",
       "  function render(props, node) {\n",
       "    var script = document.createElement(\"script\");\n",
       "    node.appendChild(script);\n",
       "  }\n",
       "\n",
       "  /**\n",
       "   * Handle when an output is cleared or removed\n",
       "   */\n",
       "  function handleClearOutput(event, handle) {\n",
       "    var cell = handle.cell;\n",
       "\n",
       "    var id = cell.output_area._bokeh_element_id;\n",
       "    var server_id = cell.output_area._bokeh_server_id;\n",
       "    // Clean up Bokeh references\n",
       "    if (id !== undefined) {\n",
       "      Bokeh.index[id].model.document.clear();\n",
       "      delete Bokeh.index[id];\n",
       "    }\n",
       "\n",
       "    if (server_id !== undefined) {\n",
       "      // Clean up Bokeh references\n",
       "      var cmd = \"from bokeh.io.state import curstate; print(curstate().uuid_to_server['\" + server_id + \"'].get_sessions()[0].document.roots[0]._id)\";\n",
       "      cell.notebook.kernel.execute(cmd, {\n",
       "        iopub: {\n",
       "          output: function(msg) {\n",
       "            var element_id = msg.content.text.trim();\n",
       "            Bokeh.index[element_id].model.document.clear();\n",
       "            delete Bokeh.index[element_id];\n",
       "          }\n",
       "        }\n",
       "      });\n",
       "      // Destroy server and session\n",
       "      var cmd = \"import bokeh.io.notebook as ion; ion.destroy_server('\" + server_id + \"')\";\n",
       "      cell.notebook.kernel.execute(cmd);\n",
       "    }\n",
       "  }\n",
       "\n",
       "  /**\n",
       "   * Handle when a new output is added\n",
       "   */\n",
       "  function handleAddOutput(event, handle) {\n",
       "    var output_area = handle.output_area;\n",
       "    var output = handle.output;\n",
       "\n",
       "    // limit handleAddOutput to display_data with EXEC_MIME_TYPE content only\n",
       "    if ((output.output_type != \"display_data\") || (!output.data.hasOwnProperty(EXEC_MIME_TYPE))) {\n",
       "      return\n",
       "    }\n",
       "\n",
       "    var toinsert = output_area.element.find(`.${CLASS_NAME.split(' ')[0]}`);\n",
       "\n",
       "    if (output.metadata[EXEC_MIME_TYPE][\"id\"] !== undefined) {\n",
       "      toinsert[0].firstChild.textContent = output.data[JS_MIME_TYPE];\n",
       "      // store reference to embed id on output_area\n",
       "      output_area._bokeh_element_id = output.metadata[EXEC_MIME_TYPE][\"id\"];\n",
       "    }\n",
       "    if (output.metadata[EXEC_MIME_TYPE][\"server_id\"] !== undefined) {\n",
       "      var bk_div = document.createElement(\"div\");\n",
       "      bk_div.innerHTML = output.data[HTML_MIME_TYPE];\n",
       "      var script_attrs = bk_div.children[0].attributes;\n",
       "      for (var i = 0; i < script_attrs.length; i++) {\n",
       "        toinsert[0].firstChild.setAttribute(script_attrs[i].name, script_attrs[i].value);\n",
       "      }\n",
       "      // store reference to server id on output_area\n",
       "      output_area._bokeh_server_id = output.metadata[EXEC_MIME_TYPE][\"server_id\"];\n",
       "    }\n",
       "  }\n",
       "\n",
       "  function register_renderer(events, OutputArea) {\n",
       "\n",
       "    function append_mime(data, metadata, element) {\n",
       "      // create a DOM node to render to\n",
       "      var toinsert = this.create_output_subarea(\n",
       "        metadata,\n",
       "        CLASS_NAME,\n",
       "        EXEC_MIME_TYPE\n",
       "      );\n",
       "      this.keyboard_manager.register_events(toinsert);\n",
       "      // Render to node\n",
       "      var props = {data: data, metadata: metadata[EXEC_MIME_TYPE]};\n",
       "      render(props, toinsert[0]);\n",
       "      element.append(toinsert);\n",
       "      return toinsert\n",
       "    }\n",
       "\n",
       "    /* Handle when an output is cleared or removed */\n",
       "    events.on('clear_output.CodeCell', handleClearOutput);\n",
       "    events.on('delete.Cell', handleClearOutput);\n",
       "\n",
       "    /* Handle when a new output is added */\n",
       "    events.on('output_added.OutputArea', handleAddOutput);\n",
       "\n",
       "    /**\n",
       "     * Register the mime type and append_mime function with output_area\n",
       "     */\n",
       "    OutputArea.prototype.register_mime_type(EXEC_MIME_TYPE, append_mime, {\n",
       "      /* Is output safe? */\n",
       "      safe: true,\n",
       "      /* Index of renderer in `output_area.display_order` */\n",
       "      index: 0\n",
       "    });\n",
       "  }\n",
       "\n",
       "  // register the mime type if in Jupyter Notebook environment and previously unregistered\n",
       "  if (root.Jupyter !== undefined) {\n",
       "    var events = require('base/js/events');\n",
       "    var OutputArea = require('notebook/js/outputarea').OutputArea;\n",
       "\n",
       "    if (OutputArea.prototype.mime_types().indexOf(EXEC_MIME_TYPE) == -1) {\n",
       "      register_renderer(events, OutputArea);\n",
       "    }\n",
       "  }\n",
       "\n",
       "  \n",
       "  if (typeof (root._bokeh_timeout) === \"undefined\" || force === true) {\n",
       "    root._bokeh_timeout = Date.now() + 5000;\n",
       "    root._bokeh_failed_load = false;\n",
       "  }\n",
       "\n",
       "  var NB_LOAD_WARNING = {'data': {'text/html':\n",
       "     \"<div style='background-color: #fdd'>\\n\"+\n",
       "     \"<p>\\n\"+\n",
       "     \"BokehJS does not appear to have successfully loaded. If loading BokehJS from CDN, this \\n\"+\n",
       "     \"may be due to a slow or bad network connection. Possible fixes:\\n\"+\n",
       "     \"</p>\\n\"+\n",
       "     \"<ul>\\n\"+\n",
       "     \"<li>re-rerun `output_notebook()` to attempt to load from CDN again, or</li>\\n\"+\n",
       "     \"<li>use INLINE resources instead, as so:</li>\\n\"+\n",
       "     \"</ul>\\n\"+\n",
       "     \"<code>\\n\"+\n",
       "     \"from bokeh.resources import INLINE\\n\"+\n",
       "     \"output_notebook(resources=INLINE)\\n\"+\n",
       "     \"</code>\\n\"+\n",
       "     \"</div>\"}};\n",
       "\n",
       "  function display_loaded() {\n",
       "    var el = document.getElementById(\"969b293d-d84c-47d6-934f-147f19a94105\");\n",
       "    if (el != null) {\n",
       "      el.textContent = \"BokehJS is loading...\";\n",
       "    }\n",
       "    if (root.Bokeh !== undefined) {\n",
       "      if (el != null) {\n",
       "        el.textContent = \"BokehJS \" + root.Bokeh.version + \" successfully loaded.\";\n",
       "      }\n",
       "    } else if (Date.now() < root._bokeh_timeout) {\n",
       "      setTimeout(display_loaded, 100)\n",
       "    }\n",
       "  }\n",
       "\n",
       "\n",
       "  function run_callbacks() {\n",
       "    try {\n",
       "      root._bokeh_onload_callbacks.forEach(function(callback) { callback() });\n",
       "    }\n",
       "    finally {\n",
       "      delete root._bokeh_onload_callbacks\n",
       "    }\n",
       "    console.info(\"Bokeh: all callbacks have finished\");\n",
       "  }\n",
       "\n",
       "  function load_libs(js_urls, callback) {\n",
       "    root._bokeh_onload_callbacks.push(callback);\n",
       "    if (root._bokeh_is_loading > 0) {\n",
       "      console.log(\"Bokeh: BokehJS is being loaded, scheduling callback at\", now());\n",
       "      return null;\n",
       "    }\n",
       "    if (js_urls == null || js_urls.length === 0) {\n",
       "      run_callbacks();\n",
       "      return null;\n",
       "    }\n",
       "    console.log(\"Bokeh: BokehJS not loaded, scheduling load and callback at\", now());\n",
       "    root._bokeh_is_loading = js_urls.length;\n",
       "    for (var i = 0; i < js_urls.length; i++) {\n",
       "      var url = js_urls[i];\n",
       "      var s = document.createElement('script');\n",
       "      s.src = url;\n",
       "      s.async = false;\n",
       "      s.onreadystatechange = s.onload = function() {\n",
       "        root._bokeh_is_loading--;\n",
       "        if (root._bokeh_is_loading === 0) {\n",
       "          console.log(\"Bokeh: all BokehJS libraries loaded\");\n",
       "          run_callbacks()\n",
       "        }\n",
       "      };\n",
       "      s.onerror = function() {\n",
       "        console.warn(\"failed to load library \" + url);\n",
       "      };\n",
       "      console.log(\"Bokeh: injecting script tag for BokehJS library: \", url);\n",
       "      document.getElementsByTagName(\"head\")[0].appendChild(s);\n",
       "    }\n",
       "  };var element = document.getElementById(\"969b293d-d84c-47d6-934f-147f19a94105\");\n",
       "  if (element == null) {\n",
       "    console.log(\"Bokeh: ERROR: autoload.js configured with elementid '969b293d-d84c-47d6-934f-147f19a94105' but no matching script tag was found. \")\n",
       "    return false;\n",
       "  }\n",
       "\n",
       "  var js_urls = [\"https://cdn.pydata.org/bokeh/release/bokeh-0.12.10.min.js\", \"https://cdn.pydata.org/bokeh/release/bokeh-widgets-0.12.10.min.js\", \"https://cdn.pydata.org/bokeh/release/bokeh-tables-0.12.10.min.js\", \"https://cdn.pydata.org/bokeh/release/bokeh-gl-0.12.10.min.js\"];\n",
       "\n",
       "  var inline_js = [\n",
       "    function(Bokeh) {\n",
       "      Bokeh.set_log_level(\"info\");\n",
       "    },\n",
       "    \n",
       "    function(Bokeh) {\n",
       "      \n",
       "    },\n",
       "    function(Bokeh) {\n",
       "      console.log(\"Bokeh: injecting CSS: https://cdn.pydata.org/bokeh/release/bokeh-0.12.10.min.css\");\n",
       "      Bokeh.embed.inject_css(\"https://cdn.pydata.org/bokeh/release/bokeh-0.12.10.min.css\");\n",
       "      console.log(\"Bokeh: injecting CSS: https://cdn.pydata.org/bokeh/release/bokeh-widgets-0.12.10.min.css\");\n",
       "      Bokeh.embed.inject_css(\"https://cdn.pydata.org/bokeh/release/bokeh-widgets-0.12.10.min.css\");\n",
       "      console.log(\"Bokeh: injecting CSS: https://cdn.pydata.org/bokeh/release/bokeh-tables-0.12.10.min.css\");\n",
       "      Bokeh.embed.inject_css(\"https://cdn.pydata.org/bokeh/release/bokeh-tables-0.12.10.min.css\");\n",
       "    }\n",
       "  ];\n",
       "\n",
       "  function run_inline_js() {\n",
       "    \n",
       "    if ((root.Bokeh !== undefined) || (force === true)) {\n",
       "      for (var i = 0; i < inline_js.length; i++) {\n",
       "        inline_js[i].call(root, root.Bokeh);\n",
       "      }if (force === true) {\n",
       "        display_loaded();\n",
       "      }} else if (Date.now() < root._bokeh_timeout) {\n",
       "      setTimeout(run_inline_js, 100);\n",
       "    } else if (!root._bokeh_failed_load) {\n",
       "      console.log(\"Bokeh: BokehJS failed to load within specified timeout.\");\n",
       "      root._bokeh_failed_load = true;\n",
       "    } else if (force !== true) {\n",
       "      var cell = $(document.getElementById(\"969b293d-d84c-47d6-934f-147f19a94105\")).parents('.cell').data().cell;\n",
       "      cell.output_area.append_execute_result(NB_LOAD_WARNING)\n",
       "    }\n",
       "\n",
       "  }\n",
       "\n",
       "  if (root._bokeh_is_loading === 0) {\n",
       "    console.log(\"Bokeh: BokehJS loaded, going straight to plotting\");\n",
       "    run_inline_js();\n",
       "  } else {\n",
       "    load_libs(js_urls, function() {\n",
       "      console.log(\"Bokeh: BokehJS plotting callback run at\", now());\n",
       "      run_inline_js();\n",
       "    });\n",
       "  }\n",
       "}(window));"
      ],
      "application/vnd.bokehjs_load.v0+json": "\n(function(root) {\n  function now() {\n    return new Date();\n  }\n\n  var force = true;\n\n  if (typeof (root._bokeh_onload_callbacks) === \"undefined\" || force === true) {\n    root._bokeh_onload_callbacks = [];\n    root._bokeh_is_loading = undefined;\n  }\n\n  \n\n  \n  if (typeof (root._bokeh_timeout) === \"undefined\" || force === true) {\n    root._bokeh_timeout = Date.now() + 5000;\n    root._bokeh_failed_load = false;\n  }\n\n  var NB_LOAD_WARNING = {'data': {'text/html':\n     \"<div style='background-color: #fdd'>\\n\"+\n     \"<p>\\n\"+\n     \"BokehJS does not appear to have successfully loaded. If loading BokehJS from CDN, this \\n\"+\n     \"may be due to a slow or bad network connection. Possible fixes:\\n\"+\n     \"</p>\\n\"+\n     \"<ul>\\n\"+\n     \"<li>re-rerun `output_notebook()` to attempt to load from CDN again, or</li>\\n\"+\n     \"<li>use INLINE resources instead, as so:</li>\\n\"+\n     \"</ul>\\n\"+\n     \"<code>\\n\"+\n     \"from bokeh.resources import INLINE\\n\"+\n     \"output_notebook(resources=INLINE)\\n\"+\n     \"</code>\\n\"+\n     \"</div>\"}};\n\n  function display_loaded() {\n    var el = document.getElementById(\"969b293d-d84c-47d6-934f-147f19a94105\");\n    if (el != null) {\n      el.textContent = \"BokehJS is loading...\";\n    }\n    if (root.Bokeh !== undefined) {\n      if (el != null) {\n        el.textContent = \"BokehJS \" + root.Bokeh.version + \" successfully loaded.\";\n      }\n    } else if (Date.now() < root._bokeh_timeout) {\n      setTimeout(display_loaded, 100)\n    }\n  }\n\n\n  function run_callbacks() {\n    try {\n      root._bokeh_onload_callbacks.forEach(function(callback) { callback() });\n    }\n    finally {\n      delete root._bokeh_onload_callbacks\n    }\n    console.info(\"Bokeh: all callbacks have finished\");\n  }\n\n  function load_libs(js_urls, callback) {\n    root._bokeh_onload_callbacks.push(callback);\n    if (root._bokeh_is_loading > 0) {\n      console.log(\"Bokeh: BokehJS is being loaded, scheduling callback at\", now());\n      return null;\n    }\n    if (js_urls == null || js_urls.length === 0) {\n      run_callbacks();\n      return null;\n    }\n    console.log(\"Bokeh: BokehJS not loaded, scheduling load and callback at\", now());\n    root._bokeh_is_loading = js_urls.length;\n    for (var i = 0; i < js_urls.length; i++) {\n      var url = js_urls[i];\n      var s = document.createElement('script');\n      s.src = url;\n      s.async = false;\n      s.onreadystatechange = s.onload = function() {\n        root._bokeh_is_loading--;\n        if (root._bokeh_is_loading === 0) {\n          console.log(\"Bokeh: all BokehJS libraries loaded\");\n          run_callbacks()\n        }\n      };\n      s.onerror = function() {\n        console.warn(\"failed to load library \" + url);\n      };\n      console.log(\"Bokeh: injecting script tag for BokehJS library: \", url);\n      document.getElementsByTagName(\"head\")[0].appendChild(s);\n    }\n  };var element = document.getElementById(\"969b293d-d84c-47d6-934f-147f19a94105\");\n  if (element == null) {\n    console.log(\"Bokeh: ERROR: autoload.js configured with elementid '969b293d-d84c-47d6-934f-147f19a94105' but no matching script tag was found. \")\n    return false;\n  }\n\n  var js_urls = [\"https://cdn.pydata.org/bokeh/release/bokeh-0.12.10.min.js\", \"https://cdn.pydata.org/bokeh/release/bokeh-widgets-0.12.10.min.js\", \"https://cdn.pydata.org/bokeh/release/bokeh-tables-0.12.10.min.js\", \"https://cdn.pydata.org/bokeh/release/bokeh-gl-0.12.10.min.js\"];\n\n  var inline_js = [\n    function(Bokeh) {\n      Bokeh.set_log_level(\"info\");\n    },\n    \n    function(Bokeh) {\n      \n    },\n    function(Bokeh) {\n      console.log(\"Bokeh: injecting CSS: https://cdn.pydata.org/bokeh/release/bokeh-0.12.10.min.css\");\n      Bokeh.embed.inject_css(\"https://cdn.pydata.org/bokeh/release/bokeh-0.12.10.min.css\");\n      console.log(\"Bokeh: injecting CSS: https://cdn.pydata.org/bokeh/release/bokeh-widgets-0.12.10.min.css\");\n      Bokeh.embed.inject_css(\"https://cdn.pydata.org/bokeh/release/bokeh-widgets-0.12.10.min.css\");\n      console.log(\"Bokeh: injecting CSS: https://cdn.pydata.org/bokeh/release/bokeh-tables-0.12.10.min.css\");\n      Bokeh.embed.inject_css(\"https://cdn.pydata.org/bokeh/release/bokeh-tables-0.12.10.min.css\");\n    }\n  ];\n\n  function run_inline_js() {\n    \n    if ((root.Bokeh !== undefined) || (force === true)) {\n      for (var i = 0; i < inline_js.length; i++) {\n        inline_js[i].call(root, root.Bokeh);\n      }if (force === true) {\n        display_loaded();\n      }} else if (Date.now() < root._bokeh_timeout) {\n      setTimeout(run_inline_js, 100);\n    } else if (!root._bokeh_failed_load) {\n      console.log(\"Bokeh: BokehJS failed to load within specified timeout.\");\n      root._bokeh_failed_load = true;\n    } else if (force !== true) {\n      var cell = $(document.getElementById(\"969b293d-d84c-47d6-934f-147f19a94105\")).parents('.cell').data().cell;\n      cell.output_area.append_execute_result(NB_LOAD_WARNING)\n    }\n\n  }\n\n  if (root._bokeh_is_loading === 0) {\n    console.log(\"Bokeh: BokehJS loaded, going straight to plotting\");\n    run_inline_js();\n  } else {\n    load_libs(js_urls, function() {\n      console.log(\"Bokeh: BokehJS plotting callback run at\", now());\n      run_inline_js();\n    });\n  }\n}(window));"
     },
     "metadata": {},
     "output_type": "display_data"
    }
   ],
   "source": [
    "#embed figures in the notebook\n",
    "output_notebook()"
   ]
  },
  {
   "cell_type": "markdown",
   "metadata": {},
   "source": [
    "### Define the sampling"
   ]
  },
  {
   "cell_type": "code",
   "execution_count": 3,
   "metadata": {
    "collapsed": true
   },
   "outputs": [],
   "source": [
    "def sample_real(n, sigma=1.0, mean=-1.0):\n",
    "    return np.sort(np.random.normal(mean, sigma, n))"
   ]
  },
  {
   "cell_type": "code",
   "execution_count": 4,
   "metadata": {
    "collapsed": true
   },
   "outputs": [],
   "source": [
    "def sample_noise(n, bound=5.0):\n",
    "    #use stratified sampling to ensure the mapping maintains ordering \n",
    "    # (see blog for details)\n",
    "    return np.linspace(-bound, bound, n) + \\\n",
    "            np.random.random(n) * 0.01"
   ]
  },
  {
   "cell_type": "code",
   "execution_count": 5,
   "metadata": {
    "collapsed": true
   },
   "outputs": [],
   "source": [
    "class Sampler(object):\n",
    "    def __init__(self, real_sigma, real_mean, \n",
    "                 noise_range, batch_size):\n",
    "        self.batch_size = batch_size\n",
    "        #initialize data providers\n",
    "        self.real_data = RealData(self.batch_size, \n",
    "                                  real_sigma, real_mean)\n",
    "        self.fake_data = FakeData(self.batch_size, noise_range)\n",
    "        self.real_inputs = DataLoader(\n",
    "            self.real_data, batch_size=self.batch_size, \n",
    "            shuffle=False, num_workers=1)\n",
    "        self.fake_inputs = DataLoader(\n",
    "            self.fake_data, batch_size=self.batch_size, \n",
    "            shuffle=False, num_workers=1)"
   ]
  },
  {
   "cell_type": "markdown",
   "metadata": {},
   "source": [
    "### Wrap sampling in PyTorch Datasets\n",
    "\n",
    "to use PyTorch sampling functionalities when training the networks."
   ]
  },
  {
   "cell_type": "code",
   "execution_count": 6,
   "metadata": {
    "collapsed": true
   },
   "outputs": [],
   "source": [
    "class RealData(Dataset):\n",
    "    def __init__(self, n, sigma, mean):\n",
    "        self.data_size = n\n",
    "        self.sigma = sigma\n",
    "        self.mean = mean\n",
    "    \n",
    "    def sample(self):\n",
    "        self.x = torch.FloatTensor(sample_real(\n",
    "            self.data_size, self.sigma, self.mean)).unsqueeze(-1)\n",
    "        \n",
    "    def __len__(self):\n",
    "        return self.data_size\n",
    "    \n",
    "    def __getitem__(self, idx):\n",
    "        return self.x[idx]"
   ]
  },
  {
   "cell_type": "code",
   "execution_count": 7,
   "metadata": {
    "collapsed": true
   },
   "outputs": [],
   "source": [
    "class FakeData(Dataset):\n",
    "    def __init__(self, n, bound):\n",
    "        self.data_size = n\n",
    "        self.bound = bound\n",
    "        \n",
    "    def sample(self):\n",
    "        self.x = torch.FloatTensor(sample_noise(\n",
    "            self.data_size, self.bound)).unsqueeze(-1)\n",
    "        \n",
    "    def __len__(self):\n",
    "        return self.data_size\n",
    "    \n",
    "    def __getitem__(self, idx):\n",
    "        return self.x[idx]"
   ]
  },
  {
   "cell_type": "markdown",
   "metadata": {},
   "source": [
    "### Define the networks"
   ]
  },
  {
   "cell_type": "markdown",
   "metadata": {},
   "source": [
    "Networks as proposed in http://blog.aylien.com/introduction-generative-adversarial-networks-code-tensorflow/"
   ]
  },
  {
   "cell_type": "code",
   "execution_count": 8,
   "metadata": {
    "collapsed": true
   },
   "outputs": [],
   "source": [
    "class Generator1(nn.Module):\n",
    "    def __init__(self, input_dim, hidden_dim):\n",
    "        super(Generator1, self).__init__()\n",
    "        # first linear fully connected layer\n",
    "        self.fc1 = nn.Linear(input_dim, hidden_dim)\n",
    "        # apply nonlinear activation using softplus\n",
    "        self.softplus = nn.Softplus()\n",
    "        # reduce to single output using fully connected layer\n",
    "        self.fc2 = nn.Linear(hidden_dim, 1)\n",
    "        \n",
    "        nn.init.normal(self.fc1.weight.data)\n",
    "        nn.init.constant(self.fc1.bias.data, 0.0)\n",
    "        nn.init.normal(self.fc2.weight.data)\n",
    "        nn.init.constant(self.fc2.bias.data, 0.0)\n",
    "    \n",
    "    def forward(self, x):\n",
    "        x = self.fc2(self.softplus(self.fc1(x)))\n",
    "        return x"
   ]
  },
  {
   "cell_type": "code",
   "execution_count": 9,
   "metadata": {
    "collapsed": true
   },
   "outputs": [],
   "source": [
    "class Discriminator1(nn.Module):\n",
    "    def __init__(self, input_dim, hidden_dim):\n",
    "        super(Discriminator1, self).__init__()\n",
    "        \n",
    "        self.fc_layers = nn.ModuleList(\n",
    "            [nn.Linear(input_dim, hidden_dim)] + \n",
    "            [nn.Linear(hidden_dim, hidden_dim) for i in range(2)] +\n",
    "            [nn.Linear(hidden_dim, 1)])\n",
    "        \n",
    "        self.activations = nn.ModuleList(\n",
    "            [nn.ReLU() for i in range(3)] + [nn.Sigmoid()])\n",
    "        \n",
    "        for layer in self.fc_layers:\n",
    "            nn.init.normal(layer.weight.data)\n",
    "            nn.init.constant(layer.bias.data, 0.0)\n",
    "        \n",
    "    def forward(self, x):\n",
    "        for fc, activ in zip(self.fc_layers, self.activations):\n",
    "            x = activ(fc(x))\n",
    "        return x"
   ]
  },
  {
   "cell_type": "markdown",
   "metadata": {},
   "source": [
    "Networks as proposed in \n",
    "https://medium.com/@devnag/generative-adversarial-networks-gans-in-50-lines-of-code-pytorch-e81b79659e3f"
   ]
  },
  {
   "cell_type": "code",
   "execution_count": 10,
   "metadata": {
    "collapsed": true
   },
   "outputs": [],
   "source": [
    "class Generator2(nn.Module):\n",
    "    def __init__(self, input_dim, hidden_dim):\n",
    "        super(Generator2, self).__init__()\n",
    "        \n",
    "        self.fc_layers = nn.ModuleList(\n",
    "            [nn.Linear(input_dim, hidden_dim), \n",
    "             nn.Linear(hidden_dim, hidden_dim),\n",
    "             nn.Linear(hidden_dim, 1)])\n",
    "        \n",
    "        self.activations = nn.ModuleList(\n",
    "            [nn.ELU(), nn.Sigmoid(), None])\n",
    "        \n",
    "        for layer in self.fc_layers:\n",
    "            nn.init.normal(layer.weight.data)\n",
    "            nn.init.constant(layer.bias.data, 0.0)\n",
    "    \n",
    "    def forward(self, x):\n",
    "        for fc, activ in zip(self.fc_layers, self.activations):\n",
    "            x = activ(fc(x)) if activ else fc(x)\n",
    "        return x"
   ]
  },
  {
   "cell_type": "code",
   "execution_count": 11,
   "metadata": {
    "collapsed": true
   },
   "outputs": [],
   "source": [
    "class Discriminator2(nn.Module):\n",
    "    def __init__(self, input_dim, hidden_dim):\n",
    "        super(Discriminator2, self).__init__()\n",
    "        \n",
    "        self.fc_layers = nn.ModuleList(\n",
    "            [nn.Linear(input_dim, hidden_dim), \n",
    "             nn.Linear(hidden_dim, hidden_dim),\n",
    "             nn.Linear(hidden_dim, 1)])\n",
    "        \n",
    "        self.activations = nn.ModuleList(\n",
    "            [nn.ELU(), nn.ELU(), nn.Sigmoid()])\n",
    "        \n",
    "        for layer in self.fc_layers:\n",
    "            nn.init.normal(layer.weight.data)\n",
    "            nn.init.constant(layer.bias.data, 0.0)\n",
    "    \n",
    "    def forward(self, x):\n",
    "        for fc, activ in zip(self.fc_layers, self.activations):\n",
    "            x = activ(fc(x))\n",
    "        return x"
   ]
  },
  {
   "cell_type": "markdown",
   "metadata": {},
   "source": [
    "### Define the GAN\n",
    "\n",
    "This combines sampler, generator and discriminator, and defines the loss function and optimizers."
   ]
  },
  {
   "cell_type": "code",
   "execution_count": 12,
   "metadata": {
    "collapsed": true
   },
   "outputs": [],
   "source": [
    "class GAN(nn.Module):\n",
    "    def __init__(self, sampler, generator, discriminator):\n",
    "        super(GAN, self).__init__()\n",
    "        \n",
    "        self.sampler = sampler\n",
    "        \n",
    "        # initialize labels used for training\n",
    "        self.real_labels = torch.ones(self.sampler.batch_size,1)\n",
    "        self.fake_labels = torch.zeros(self.sampler.batch_size,1)\n",
    "        \n",
    "        # construct models\n",
    "        self.generator = generator\n",
    "        # to make sure the discriminator does not get overwhelmed,\n",
    "        # we give it two times more hidden neurons \n",
    "        self.discriminator = discriminator      \n",
    "        self.criterion = nn.BCELoss() # binary cross entropy loss\n",
    "        self.optim_gen = optim.Adam(\n",
    "            self.generator.parameters(), lr=0.001)\n",
    "        self.optim_discrim = optim.Adam(\n",
    "            self.discriminator.parameters(), lr=0.001)\n",
    "        \n",
    "        # for logging\n",
    "        self.discrim_loss = {'real': None, 'fake': None}\n",
    "        self.gen_loss = None\n",
    "    \n",
    "    def learn(self):\n",
    "        # GAN learning without resampling for the generator step\n",
    "        \n",
    "        self.sampler.real_data.sample()\n",
    "        self.sampler.fake_data.sample()\n",
    "        \n",
    "        # iterate over minibatches (in this case only one)\n",
    "        for real_x, fake_x in \\\n",
    "            zip(self.sampler.real_inputs, self.sampler.fake_inputs):\n",
    "            \n",
    "            self.discrim_loss['real'], self.discrim_loss['fake'] = \\\n",
    "                self._step_discriminator(real_x, fake_x)\n",
    "            self.gen_loss = self._step_generator(fake_x)\n",
    "                             \n",
    "    def learn_discriminator(self):\n",
    "        \n",
    "        self.sampler.real_data.sample()\n",
    "        self.sampler.fake_data.sample()\n",
    "        \n",
    "        for real_x, fake_x in \\\n",
    "            zip(self.sampler.real_inputs, self.sampler.fake_inputs):\n",
    "        \n",
    "            self.discrim_loss['real'], self.discrim_loss['fake'] = \\\n",
    "                    self._step_discriminator(real_x, fake_x)\n",
    "            \n",
    "    def learn_generator(self):\n",
    "        \n",
    "        self.sampler.fake_data.sample()\n",
    "        \n",
    "        for x in self.sampler.fake_inputs:\n",
    "            self.gen_loss = self._step_generator(x)\n",
    "            \n",
    "    def _step_discriminator(self, real_x, fake_x):\n",
    "        \n",
    "        # Learn discriminator (keep generator fixed).\n",
    "        # We want to compute the loss = \n",
    "        # -log(discrim(real_x)) - log(1 - discrim(gen(fake_x)).\n",
    "        # To do so, both terms can be computed separately,\n",
    "        # because the gradients are added together\n",
    "        # when calling backward()\n",
    "        \n",
    "        self.discriminator.zero_grad()\n",
    "        output = self.discriminator(Variable(real_x))\n",
    "        loss_real = self.criterion(output, Variable(self.real_labels))\n",
    "        loss_real.backward()\n",
    "\n",
    "        forged = self.generator(Variable(fake_x))\n",
    "        # call detach because we don't need to update\n",
    "        # the gradients for the generator (parameters are \n",
    "        # not trained in this step)\n",
    "        output = self.discriminator(forged.detach())\n",
    "        loss_fake = self.criterion(output, Variable(self.fake_labels))\n",
    "        loss_fake.backward()\n",
    "        \n",
    "        self.optim_discrim.step()\n",
    "        \n",
    "        return loss_real.data[0], loss_fake.data[0]\n",
    "    \n",
    "    def _step_generator(self, x):\n",
    "    \n",
    "        # Learn generator (keep discriminator fixed).\n",
    "        \n",
    "        self.generator.zero_grad()\n",
    "        output = self.discriminator(self.generator(Variable(x)))\n",
    "        # TODO: Not sure here if gradients are computed for the discriminator,\n",
    "        # and if so, how to prevent that. \n",
    "        loss = self.criterion(output, Variable(self.real_labels))\n",
    "        loss.backward()\n",
    "        self.optim_gen.step()\n",
    "        \n",
    "        return loss.data[0]"
   ]
  },
  {
   "cell_type": "markdown",
   "metadata": {},
   "source": [
    "### Logging and plotting functions"
   ]
  },
  {
   "cell_type": "markdown",
   "metadata": {},
   "source": [
    "Logging of losses."
   ]
  },
  {
   "cell_type": "code",
   "execution_count": 13,
   "metadata": {
    "collapsed": true
   },
   "outputs": [],
   "source": [
    "def log_discriminator(loss_real, loss_fake):\n",
    "    print('discriminator | '\n",
    "          '{:.4f} | {:.4f} | {:.4f}'.format(\n",
    "              loss_real, loss_fake, loss_real + loss_fake)) \n",
    "    \n",
    "def log_generator(loss):\n",
    "    print('generator | {:.4f}'.format(loss))"
   ]
  },
  {
   "cell_type": "markdown",
   "metadata": {},
   "source": [
    "We will plot the decision boundary, the real Gaussian distribution, and the forged distribution as generated by the generator in a figure. The evolution of the losses will be plotted in a second figure. The following functions construct data structures to store the data needed to update the figures in bokeh."
   ]
  },
  {
   "cell_type": "code",
   "execution_count": 14,
   "metadata": {
    "collapsed": true
   },
   "outputs": [],
   "source": [
    "def get_data_real_hist(numb_points, numb_bins, sampler):\n",
    "    \n",
    "    mean = sampler.real_data.mean\n",
    "    sigma = sampler.real_data.sigma\n",
    "    sample_range = sampler.fake_data.bound\n",
    "    \n",
    "    dat = {}\n",
    "    \n",
    "    samples_real = sample_real(numb_points, sigma, mean)\n",
    "    \n",
    "    hist_bins = np.linspace(-sample_range, sample_range, numb_bins)\n",
    "    dat['hist_real'], _ = np.histogram(samples_real, \n",
    "                                       bins=hist_bins, density=True) \n",
    "    dat['x'] = np.linspace(-sample_range, sample_range, numb_bins - 1)\n",
    "    \n",
    "    return dat"
   ]
  },
  {
   "cell_type": "code",
   "execution_count": 15,
   "metadata": {
    "collapsed": true
   },
   "outputs": [],
   "source": [
    "def get_data_gan_hist(numb_points, numb_bins, gan):\n",
    "    \n",
    "    sample_range = gan.sampler.fake_data.bound\n",
    "    \n",
    "    dat = {}\n",
    "    \n",
    "    # fake distribution\n",
    "    gen_x = torch.FloatTensor(np.linspace(\n",
    "        -sample_range, sample_range, numb_points)).unsqueeze(-1)\n",
    "    samples_fake = gan.generator(Variable(gen_x)).data.numpy().squeeze(-1)\n",
    "    hist_bins = np.linspace(-sample_range, sample_range, numb_bins)\n",
    "    dat['hist_fake'], _ = np.histogram(samples_fake, \n",
    "                                       bins=hist_bins, density=True)\n",
    "    \n",
    "    # decision boundary (numb_bins - 1 to get same length as \n",
    "    # fake distribution data, otherwise bokeh is complaining\n",
    "    xs = np.linspace(-sample_range, sample_range, numb_bins - 1)\n",
    "    discr_x = torch.FloatTensor(xs).unsqueeze(-1)\n",
    "    dat['labels'] = gan.discriminator(\n",
    "        Variable(discr_x)).data.numpy().squeeze(-1) \n",
    "    \n",
    "    dat['x'] = xs\n",
    "    \n",
    "    return dat"
   ]
  },
  {
   "cell_type": "code",
   "execution_count": 16,
   "metadata": {
    "collapsed": true
   },
   "outputs": [],
   "source": [
    "def update_data_gan_loss(gan, old_dat, epoch):\n",
    "    \n",
    "    dat = {}\n",
    "    dat['x'] = np.append(old_dat['x'], [epoch]) \\\n",
    "               if epoch else np.array([epoch])\n",
    "    dloss_real = gan.discrim_loss['real']\n",
    "    dloss_fake = gan.discrim_loss['fake']\n",
    "    dat['loss_discrim_real'] = np.append(old_dat['loss_discrim_real'], \n",
    "                                  [dloss_real]) \\\n",
    "                               if epoch else np.array([dloss_real])\n",
    "    dat['loss_discrim_fake'] = np.append(old_dat['loss_discrim_fake'], \n",
    "                                  [dloss_fake]) \\\n",
    "                               if epoch else np.array([dloss_fake])\n",
    "    dat['loss_discrim_total'] = np.append(old_dat['loss_discrim_total'], \n",
    "                                  [dloss_real + dloss_fake]) \\\n",
    "                                if epoch else np.array([dloss_real + dloss_fake])\n",
    "    dat['loss_generator'] = np.append(old_dat['loss_generator'], \n",
    "                                      [gan.gen_loss]) \\\n",
    "                            if epoch else np.array([gan.gen_loss])\n",
    "    \n",
    "    return dat\n",
    "    "
   ]
  },
  {
   "cell_type": "markdown",
   "metadata": {},
   "source": [
    "This function displays the figures."
   ]
  },
  {
   "cell_type": "code",
   "execution_count": 17,
   "metadata": {
    "collapsed": true
   },
   "outputs": [],
   "source": [
    "def show_data(data_real_hist, data_gan_hist, data_gan_loss, bound):\n",
    "    \n",
    "    lw = 2\n",
    "    \n",
    "    fig_hist = figure(plot_width=350, plot_height=350,\n",
    "                      x_range=(-bound, bound))\n",
    "\n",
    "    fig_hist.line('x', 'hist_real', source=data_real_hist,\n",
    "             line_width=lw, line_color='blue', legend='real distribution')\n",
    "    fig_hist.line('x', 'labels', source=data_gan_hist,\n",
    "             line_width=lw, line_color='green', legend='decision')\n",
    "    fig_hist.line('x', 'hist_fake', source=data_gan_hist, \n",
    "             line_width=lw, line_color='red', legend='fake distribution')\n",
    "    \n",
    "    # unfortunately legends cannot be moved (yet) interactively\n",
    "    fig_hist.legend.location = \"top_left\"\n",
    "    #fig.legend.click_policy=\"hide\"\n",
    "    \n",
    "    fig_loss = figure(plot_width=640, plot_height=350)\n",
    "    fig_loss.line('x', 'loss_discrim_real', source=data_gan_loss, \n",
    "                  line_width=lw, line_color='blue', legend='D-loss real')\n",
    "    fig_loss.line('x', 'loss_discrim_fake', source=data_gan_loss, \n",
    "                  line_width=lw, line_color='green', legend='D-loss fake')\n",
    "    fig_loss.line('x', 'loss_discrim_total', source=data_gan_loss, \n",
    "                  line_width=lw, line_color='red', legend='D-loss total')\n",
    "    fig_loss.line('x', 'loss_generator', source=data_gan_loss, \n",
    "                  line_width=lw, line_color='black', legend='G-loss')\n",
    "    \n",
    "    show(row(fig_hist, fig_loss), notebook_handle=True)"
   ]
  },
  {
   "cell_type": "markdown",
   "metadata": {},
   "source": [
    "### Train the GAN"
   ]
  },
  {
   "cell_type": "markdown",
   "metadata": {},
   "source": [
    "encapsulate training in a function to make it reusable:"
   ]
  },
  {
   "cell_type": "code",
   "execution_count": 18,
   "metadata": {
    "collapsed": true
   },
   "outputs": [],
   "source": [
    "def train_gan(gan, nb_points, nb_bins, log_step, number_epochs):\n",
    "    data_real = ColumnDataSource(\n",
    "    data=get_data_real_hist(nb_points, nb_bins, sampler))\n",
    "    data_gan_hist = ColumnDataSource(\n",
    "    data={'x': [], 'labels': [], 'hist_fake': []})\n",
    "    # when using empty arrays, y-axis tick labels are not showing\n",
    "    data_gan_loss = ColumnDataSource(\n",
    "        data={'x': [0.], \n",
    "              'loss_discrim_real': [0.],\n",
    "              'loss_discrim_fake': [0.],\n",
    "              'loss_discrim_total': [0.],\n",
    "              'loss_generator': [0.]})\n",
    "\n",
    "    show_data(data_real, data_gan_hist, data_gan_loss, \n",
    "              gan.sampler.fake_data.bound)\n",
    "\n",
    "    for epoch in range(number_epochs):\n",
    "        #gan.learn()\n",
    "        gan.learn_discriminator()\n",
    "        gan.learn_generator()\n",
    "\n",
    "        if not (epoch % log_step):\n",
    "            data_gan_hist.data = get_data_gan_hist(4000, 100, gan)\n",
    "            data_gan_loss.data = update_data_gan_loss(\n",
    "                gan, data_gan_loss.data, epoch)\n",
    "            push_notebook()   "
   ]
  },
  {
   "cell_type": "markdown",
   "metadata": {},
   "source": [
    "#### With Generator1 and Discriminator1\n",
    "\n",
    "Note that this problem is not stable and can generate various solution, depending on the random seed or on how many times you run the cells. As explained in the blog, the generator will typically converge to a distribution that has similar range but has a more narrow shape. To improve convergence, a pre-training of the decision boundary can be applied as explained in https://blog.evjang.com/2016/06/generative-adversarial-nets-in.html "
   ]
  },
  {
   "cell_type": "code",
   "execution_count": 19,
   "metadata": {
    "collapsed": true
   },
   "outputs": [],
   "source": [
    "# define seed here such that each variant is \n",
    "# tested with same random sequence\n",
    "np.random.seed(42)\n",
    "real_sigma = 0.5\n",
    "real_mean = 4.0\n",
    "noise_range = 8.0\n",
    "hidden_dim = 4\n",
    "batch_size = 8\n",
    "sampler = Sampler(real_sigma, real_mean, noise_range, batch_size)\n",
    "gen1 = Generator1(1, hidden_dim)\n",
    "discrim1 = Discriminator1(1, 2 * hidden_dim)\n",
    "gan1 = GAN(sampler, gen1, discrim1)"
   ]
  },
  {
   "cell_type": "code",
   "execution_count": 20,
   "metadata": {},
   "outputs": [
    {
     "data": {
      "text/html": [
       "\n",
       "<div class=\"bk-root\">\n",
       "    <div class=\"bk-plotdiv\" id=\"36c43abb-965b-4776-b1ab-529a0f464e98\"></div>\n",
       "</div>"
      ]
     },
     "metadata": {},
     "output_type": "display_data"
    },
    {
     "data": {
      "application/javascript": [
       "(function(root) {\n",
       "  function embed_document(root) {\n",
       "    var docs_json = {\"9979fba6-ba20-4c13-a815-397c452ff93b\":{\"roots\":{\"references\":[{\"attributes\":{},\"id\":\"745550fd-889f-48ac-a39f-6128028744e0\",\"type\":\"BasicTickFormatter\"},{\"attributes\":{},\"id\":\"02aa913b-bf90-4c68-ae6a-c36db01d9533\",\"type\":\"SaveTool\"},{\"attributes\":{\"line_color\":{\"value\":\"blue\"},\"line_width\":{\"value\":2},\"x\":{\"field\":\"x\"},\"y\":{\"field\":\"loss_discrim_real\"}},\"id\":\"a35a7b23-f7ed-4d13-bf1c-c46a60663160\",\"type\":\"Line\"},{\"attributes\":{\"plot\":null,\"text\":\"\"},\"id\":\"22d1d01d-74e8-4fbd-9fec-85b9cdfd79a2\",\"type\":\"Title\"},{\"attributes\":{\"callback\":null,\"column_names\":[\"hist_real\",\"x\"],\"data\":{\"hist_real\":{\"__ndarray__\":\"AAAAAAAAAAAAAAAAAAAAAAAAAAAAAAAAAAAAAAAAAAAAAAAAAAAAAAAAAAAAAAAAAAAAAAAAAAAAAAAAAAAAAAAAAAAAAAAAAAAAAAAAAAAAAAAAAAAAAAAAAAAAAAAAAAAAAAAAAAAAAAAAAAAAAAAAAAAAAAAAAAAAAAAAAAAAAAAAAAAAAAAAAAAAAAAAAAAAAAAAAAAAAAAAAAAAAAAAAAAAAAAAAAAAAAAAAAAAAAAAAAAAAAAAAAAAAAAAAAAAAAAAAAAAAAAAAAAAAAAAAAAAAAAAAAAAAAAAAAAAAAAAAAAAAAAAAAAAAAAAAAAAAAAAAAAAAAAAAAAAAAAAAAAAAAAAAAAAAAAAAAAAAAAAAAAAAAAAAAAAAAAAAAAAAAAAAAAAAAAAAAAAAAAAAAAAAAAAAAAAAAAAAAAAAAAAAAAAAAAAAAAAAAAAAAAAAAAAAAAAAAAAAAAAAAAAAAAAAAAAAAAAAAAAAAAAAAAAAAAAAAAAAAAAAAAAAAAAAAAAAAAAAAAAAAAAAAAAAAAAAAAAAAAAAAAAAAAAAAAAAAAAAAAAAAAAAAAAAAAAAAAAAAAAAAAAAAAAAAAAAAAAAAAAAAAAAAAAAAAAAAAAAAAAAAAAAAAAAAAAAAAAAAAAAAAAAAAAAAAAAAAAAAAAAAAAAAAAAAAAAABOXrpJDAJzP+aAlUOLbJE/hBKDwMqhoD9976fGSzeyP9BJDAIrB8E/o873U+PlzT96ZDvfT43YP2AMAiuHRuE/e0W28/2U5T+0Q4ts59vnP5cgsHJocek/bDeJQWAl6T/HR+F6FE7jPzoSg8DKAd0/x0fhehRO0z+leOkmMYjKPz7ZzvdT474/mPUoXI/Cpz+wGARWDi2WP05eukkMAoM/El66SQwCcz8AAAAAAAAAAMTSTWIQWGk/AAAAAAAAAAAAAAAAAAAAAAAAAAAAAAAAAAAAAAAAAAAAAAAAAAAAAAAAAAAAAAAAAAAAAAAAAAAAAAAAAAAAAAAAAAAAAAAAAAAAAAAAAAAAAAAAAAAAAAAAAAAAAAAA\",\"dtype\":\"float64\",\"shape\":[99]},\"x\":{\"__ndarray__\":\"AAAAAAAAIMDWh8b60FgfwKwPjfWhsR7Ag5dT8HIKHsBZHxrrQ2MdwC+n4OUUvBzABS+n4OUUHMDctm3btm0bwLI+NNaHxhrAiMb60FgfGsBeTsHLKXgZwDTWh8b60BjACl5OwcspGMDh5RS8nIIXwLdt27Zt2xbAjvWhsT40FsBkfWisD40VwDoFL6fg5RTAEI31obE+FMDmFLycgpcTwLycgpdT8BLAkiRJkiRJEsBprA+N9aERwD801ofG+hDAFbycgpdTEMDWh8b60FgPwISXU/ByCg7AMKfg5RS8DMDctm3btm0LwIjG+tBYHwrANtaHxvrQCMDi5RS8nIIHwI71obE+NAbAOgUvp+DlBMDmFLycgpcDwJQkSZIkSQLAQDTWh8b6AMDYh8b60Fj/vzCn4OUUvPy/jMb60Fgf+r/k5RS8nIL3vzwFL6fg5fS/lCRJkiRJ8r/Yh8b60Fjvv5DG+tBYH+q/QAUvp+Dl5L/gh8b60Fjfv0AFL6fg5dS/QAUvp+DlxL8AAAAAAADQvEAFL6fg5cQ/IAUvp+Dl1D/Ah8b60FjfPzAFL6fg5eQ/gMb60Fgf6j/Qh8b60FjvP5AkSZIkSfI/OAUvp+Dl9D/g5RS8nIL3P4jG+tBYH/o/KKfg5RS8/D/Qh8b60Fj/Pzw01ofG+gBAkCRJkiRJAkDkFLycgpcDQDgFL6fg5QRAjPWhsT40BkDg5RS8nIIHQDTWh8b60AhAhMb60FgfCkDYtm3btm0LQCyn4OUUvAxAgJdT8HIKDkDUh8b60FgPQBS8nIKXUxBAPjTWh8b6EEBorA+N9aERQJIkSZIkSRJAupyCl1PwEkDkFLycgpcTQA6N9aGxPhRAOAUvp+DlFEBifWisD40VQIz1obE+NBZAtm3btm3bFkDg5RS8nIIXQApeTsHLKRhAMtaHxvrQGEBcTsHLKXgZQIbG+tBYHxpAsD401ofGGkDatm3btm0bQAQvp+DlFBxALqfg5RS8HEBYHxrrQ2MdQIKXU/ByCh5ArA+N9aGxHkDUh8b60FgfQAAAAAAAACBA\",\"dtype\":\"float64\",\"shape\":[99]}}},\"id\":\"ed68ac2f-fa81-47fe-a6be-36dbd57b721c\",\"type\":\"ColumnDataSource\"},{\"attributes\":{\"children\":[{\"id\":\"a057ea3e-a7d2-483d-aa15-c3fabe28e114\",\"subtype\":\"Figure\",\"type\":\"Plot\"},{\"id\":\"2de2830e-b068-45d6-bfdf-2a59a885cc67\",\"subtype\":\"Figure\",\"type\":\"Plot\"}]},\"id\":\"47e7f4f9-7a0d-4ad3-9619-446133f7b110\",\"type\":\"Row\"},{\"attributes\":{\"source\":{\"id\":\"ddc4455f-4a3b-40de-bc53-31f9b7f5ff00\",\"type\":\"ColumnDataSource\"}},\"id\":\"ff92ca73-984b-4cd5-a501-96c67214fb82\",\"type\":\"CDSView\"},{\"attributes\":{},\"id\":\"31624345-5c03-4419-8fd0-958dfb9828d5\",\"type\":\"BasicTicker\"},{\"attributes\":{\"label\":{\"value\":\"fake distribution\"},\"renderers\":[{\"id\":\"764ae2c1-8722-4653-9414-c01a036e6d81\",\"type\":\"GlyphRenderer\"}]},\"id\":\"4347c68d-8b4a-4942-972d-7737fe03d3ed\",\"type\":\"LegendItem\"},{\"attributes\":{\"data_source\":{\"id\":\"a8c80ab5-0dcf-4fef-a866-b5819e18ee88\",\"type\":\"ColumnDataSource\"},\"glyph\":{\"id\":\"a807e2bf-3b01-4890-a303-b68e9e250ef5\",\"type\":\"Line\"},\"hover_glyph\":null,\"muted_glyph\":null,\"nonselection_glyph\":{\"id\":\"4c189c34-ed99-4914-b201-be098a20953b\",\"type\":\"Line\"},\"selection_glyph\":null,\"view\":{\"id\":\"ec04b047-f7da-4de2-9c7c-a758800e1d65\",\"type\":\"CDSView\"}},\"id\":\"09803f7f-93c6-45c1-a0f8-f67d86ad207a\",\"type\":\"GlyphRenderer\"},{\"attributes\":{\"line_color\":{\"value\":\"green\"},\"line_width\":{\"value\":2},\"x\":{\"field\":\"x\"},\"y\":{\"field\":\"labels\"}},\"id\":\"935e0f5f-7974-4af3-aa08-7c778f2d8301\",\"type\":\"Line\"},{\"attributes\":{\"label\":{\"value\":\"D-loss total\"},\"renderers\":[{\"id\":\"fa9a2d2e-61b9-4a8e-a4f7-a773b09431a6\",\"type\":\"GlyphRenderer\"}]},\"id\":\"e61c9443-7519-4d97-973e-c0a848ccbab1\",\"type\":\"LegendItem\"},{\"attributes\":{\"callback\":null},\"id\":\"25a17ac6-fa3f-4ea8-b8b4-06471c2fa3fd\",\"type\":\"DataRange1d\"},{\"attributes\":{\"plot\":{\"id\":\"2de2830e-b068-45d6-bfdf-2a59a885cc67\",\"subtype\":\"Figure\",\"type\":\"Plot\"},\"ticker\":{\"id\":\"31624345-5c03-4419-8fd0-958dfb9828d5\",\"type\":\"BasicTicker\"}},\"id\":\"c9c9865a-778d-47aa-bd6a-4eba106e173c\",\"type\":\"Grid\"},{\"attributes\":{\"data_source\":{\"id\":\"a8c80ab5-0dcf-4fef-a866-b5819e18ee88\",\"type\":\"ColumnDataSource\"},\"glyph\":{\"id\":\"303acd04-59d6-48c4-9779-0a3a668fc20e\",\"type\":\"Line\"},\"hover_glyph\":null,\"muted_glyph\":null,\"nonselection_glyph\":{\"id\":\"ef38e5b7-760e-4104-91fc-21bc873847ab\",\"type\":\"Line\"},\"selection_glyph\":null,\"view\":{\"id\":\"02fcc246-aa7a-486d-8c1c-75a359c86810\",\"type\":\"CDSView\"}},\"id\":\"1d859780-3319-4057-a742-37d491125874\",\"type\":\"GlyphRenderer\"},{\"attributes\":{\"plot\":null,\"text\":\"\"},\"id\":\"f68c8f9d-789e-4624-bb06-bcea158cbb2d\",\"type\":\"Title\"},{\"attributes\":{},\"id\":\"1474660c-91b6-4e45-8a7b-ef018956ab2a\",\"type\":\"WheelZoomTool\"},{\"attributes\":{\"dimension\":1,\"plot\":{\"id\":\"2de2830e-b068-45d6-bfdf-2a59a885cc67\",\"subtype\":\"Figure\",\"type\":\"Plot\"},\"ticker\":{\"id\":\"e77aa7f5-8526-46ba-b8c0-30a045570abe\",\"type\":\"BasicTicker\"}},\"id\":\"2217ab0f-c85a-4801-a807-c49251abaa09\",\"type\":\"Grid\"},{\"attributes\":{\"label\":{\"value\":\"decision\"},\"renderers\":[{\"id\":\"50530613-eb24-4f7b-842d-95aa15344c12\",\"type\":\"GlyphRenderer\"}]},\"id\":\"97cc15ee-caff-498f-971c-002a9ace89ea\",\"type\":\"LegendItem\"},{\"attributes\":{\"callback\":null,\"column_names\":[\"x\",\"loss_discrim_real\",\"loss_discrim_fake\",\"loss_discrim_total\",\"loss_generator\"],\"data\":{\"loss_discrim_fake\":[0.0],\"loss_discrim_real\":[0.0],\"loss_discrim_total\":[0.0],\"loss_generator\":[0.0],\"x\":[0.0]}},\"id\":\"a8c80ab5-0dcf-4fef-a866-b5819e18ee88\",\"type\":\"ColumnDataSource\"},{\"attributes\":{},\"id\":\"a2eacc6d-f797-4818-a86d-091d93781447\",\"type\":\"LinearScale\"},{\"attributes\":{\"callback\":null},\"id\":\"fd7f829f-c810-47b1-903a-169c02bd2ac6\",\"type\":\"DataRange1d\"},{\"attributes\":{\"data_source\":{\"id\":\"ed68ac2f-fa81-47fe-a6be-36dbd57b721c\",\"type\":\"ColumnDataSource\"},\"glyph\":{\"id\":\"99e3fb04-d3a2-451f-a93c-34c97f10a0d3\",\"type\":\"Line\"},\"hover_glyph\":null,\"muted_glyph\":null,\"nonselection_glyph\":{\"id\":\"81ab5255-3cf9-43ad-950b-892ed7b346e1\",\"type\":\"Line\"},\"selection_glyph\":null,\"view\":{\"id\":\"b71ece51-679f-4e90-8860-e6a54cdc24e5\",\"type\":\"CDSView\"}},\"id\":\"6c540635-1923-4718-8069-6f6a0ad380a5\",\"type\":\"GlyphRenderer\"},{\"attributes\":{},\"id\":\"d4e910f1-03b6-47ba-a6fc-6431616ecbff\",\"type\":\"ResetTool\"},{\"attributes\":{\"active_drag\":\"auto\",\"active_inspect\":\"auto\",\"active_scroll\":\"auto\",\"active_tap\":\"auto\",\"tools\":[{\"id\":\"9670911c-ec82-460d-b87d-b2a89d854327\",\"type\":\"PanTool\"},{\"id\":\"c33b9c14-8a79-487e-9909-2385c9222947\",\"type\":\"WheelZoomTool\"},{\"id\":\"2c10cf6d-ce62-4638-a297-4b604d90ab9d\",\"type\":\"BoxZoomTool\"},{\"id\":\"b7b9b571-57e7-4276-9393-7331e325f876\",\"type\":\"SaveTool\"},{\"id\":\"d4e910f1-03b6-47ba-a6fc-6431616ecbff\",\"type\":\"ResetTool\"},{\"id\":\"4d68b8ae-f91b-4078-87f2-e512a928af0e\",\"type\":\"HelpTool\"}]},\"id\":\"e6cc48d0-f1bc-4b1f-a32d-02e43e43f9f9\",\"type\":\"Toolbar\"},{\"attributes\":{\"overlay\":{\"id\":\"f1cc871a-19dd-4792-a8ec-1d732341b6b1\",\"type\":\"BoxAnnotation\"}},\"id\":\"2c10cf6d-ce62-4638-a297-4b604d90ab9d\",\"type\":\"BoxZoomTool\"},{\"attributes\":{\"data_source\":{\"id\":\"a8c80ab5-0dcf-4fef-a866-b5819e18ee88\",\"type\":\"ColumnDataSource\"},\"glyph\":{\"id\":\"a35a7b23-f7ed-4d13-bf1c-c46a60663160\",\"type\":\"Line\"},\"hover_glyph\":null,\"muted_glyph\":null,\"nonselection_glyph\":{\"id\":\"db52fa27-bad0-49fc-a923-34f7af97fff9\",\"type\":\"Line\"},\"selection_glyph\":null,\"view\":{\"id\":\"df49c518-4135-4d29-a1f8-91c7073547bc\",\"type\":\"CDSView\"}},\"id\":\"ae25b987-2f2f-4306-b613-8aed39c611a4\",\"type\":\"GlyphRenderer\"},{\"attributes\":{\"label\":{\"value\":\"D-loss real\"},\"renderers\":[{\"id\":\"ae25b987-2f2f-4306-b613-8aed39c611a4\",\"type\":\"GlyphRenderer\"}]},\"id\":\"1e4d967b-302d-44a1-bd24-31907fb91372\",\"type\":\"LegendItem\"},{\"attributes\":{\"source\":{\"id\":\"a8c80ab5-0dcf-4fef-a866-b5819e18ee88\",\"type\":\"ColumnDataSource\"}},\"id\":\"e34730f5-ed8e-47c7-a2c0-095709b40843\",\"type\":\"CDSView\"},{\"attributes\":{},\"id\":\"e77aa7f5-8526-46ba-b8c0-30a045570abe\",\"type\":\"BasicTicker\"},{\"attributes\":{\"source\":{\"id\":\"a8c80ab5-0dcf-4fef-a866-b5819e18ee88\",\"type\":\"ColumnDataSource\"}},\"id\":\"df49c518-4135-4d29-a1f8-91c7073547bc\",\"type\":\"CDSView\"},{\"attributes\":{\"line_width\":{\"value\":2},\"x\":{\"field\":\"x\"},\"y\":{\"field\":\"loss_generator\"}},\"id\":\"303acd04-59d6-48c4-9779-0a3a668fc20e\",\"type\":\"Line\"},{\"attributes\":{\"line_alpha\":{\"value\":0.1},\"line_color\":{\"value\":\"#1f77b4\"},\"line_width\":{\"value\":2},\"x\":{\"field\":\"x\"},\"y\":{\"field\":\"hist_fake\"}},\"id\":\"06a9ff23-a570-407f-809d-bec90f204df6\",\"type\":\"Line\"},{\"attributes\":{\"items\":[{\"id\":\"1e4d967b-302d-44a1-bd24-31907fb91372\",\"type\":\"LegendItem\"},{\"id\":\"ee2b1063-b66d-49ac-ac8e-73b71d72c22b\",\"type\":\"LegendItem\"},{\"id\":\"e61c9443-7519-4d97-973e-c0a848ccbab1\",\"type\":\"LegendItem\"},{\"id\":\"55fadcf6-48e2-4d99-b867-4503edcd7fb6\",\"type\":\"LegendItem\"}],\"plot\":{\"id\":\"2de2830e-b068-45d6-bfdf-2a59a885cc67\",\"subtype\":\"Figure\",\"type\":\"Plot\"}},\"id\":\"af58a894-2bab-4f10-89ef-90e9e830ff06\",\"type\":\"Legend\"},{\"attributes\":{\"source\":{\"id\":\"a8c80ab5-0dcf-4fef-a866-b5819e18ee88\",\"type\":\"ColumnDataSource\"}},\"id\":\"ec04b047-f7da-4de2-9c7c-a758800e1d65\",\"type\":\"CDSView\"},{\"attributes\":{\"line_color\":{\"value\":\"red\"},\"line_width\":{\"value\":2},\"x\":{\"field\":\"x\"},\"y\":{\"field\":\"loss_discrim_total\"}},\"id\":\"5f8250f3-4555-47f4-8fe3-5a165b9d3444\",\"type\":\"Line\"},{\"attributes\":{\"line_color\":{\"value\":\"red\"},\"line_width\":{\"value\":2},\"x\":{\"field\":\"x\"},\"y\":{\"field\":\"hist_fake\"}},\"id\":\"efc78fc4-8b33-461f-9f42-a2ffdfec6ae4\",\"type\":\"Line\"},{\"attributes\":{\"source\":{\"id\":\"ddc4455f-4a3b-40de-bc53-31f9b7f5ff00\",\"type\":\"ColumnDataSource\"}},\"id\":\"5fa395e6-b2be-44b1-91b7-2feb7157534c\",\"type\":\"CDSView\"},{\"attributes\":{},\"id\":\"5dad3c77-b3cd-4297-b0f2-c009afd96fcf\",\"type\":\"ResetTool\"},{\"attributes\":{},\"id\":\"36a39a32-bf72-4979-b3df-66441503b67f\",\"type\":\"BasicTickFormatter\"},{\"attributes\":{\"line_alpha\":{\"value\":0.1},\"line_color\":{\"value\":\"#1f77b4\"},\"line_width\":{\"value\":2},\"x\":{\"field\":\"x\"},\"y\":{\"field\":\"hist_real\"}},\"id\":\"81ab5255-3cf9-43ad-950b-892ed7b346e1\",\"type\":\"Line\"},{\"attributes\":{\"line_alpha\":{\"value\":0.1},\"line_color\":{\"value\":\"#1f77b4\"},\"line_width\":{\"value\":2},\"x\":{\"field\":\"x\"},\"y\":{\"field\":\"loss_discrim_total\"}},\"id\":\"eb856406-9b24-43fa-bdf9-001e71778305\",\"type\":\"Line\"},{\"attributes\":{\"label\":{\"value\":\"D-loss fake\"},\"renderers\":[{\"id\":\"09803f7f-93c6-45c1-a0f8-f67d86ad207a\",\"type\":\"GlyphRenderer\"}]},\"id\":\"ee2b1063-b66d-49ac-ac8e-73b71d72c22b\",\"type\":\"LegendItem\"},{\"attributes\":{\"callback\":null,\"column_names\":[\"x\",\"labels\",\"hist_fake\"],\"data\":{\"hist_fake\":[],\"labels\":[],\"x\":[]}},\"id\":\"ddc4455f-4a3b-40de-bc53-31f9b7f5ff00\",\"type\":\"ColumnDataSource\"},{\"attributes\":{\"callback\":null},\"id\":\"d47ffbea-b60e-497b-9456-63f6ba5649ea\",\"type\":\"DataRange1d\"},{\"attributes\":{\"bottom_units\":\"screen\",\"fill_alpha\":{\"value\":0.5},\"fill_color\":{\"value\":\"lightgrey\"},\"left_units\":\"screen\",\"level\":\"overlay\",\"line_alpha\":{\"value\":1.0},\"line_color\":{\"value\":\"black\"},\"line_dash\":[4,4],\"line_width\":{\"value\":2},\"plot\":null,\"render_mode\":\"css\",\"right_units\":\"screen\",\"top_units\":\"screen\"},\"id\":\"f1cc871a-19dd-4792-a8ec-1d732341b6b1\",\"type\":\"BoxAnnotation\"},{\"attributes\":{},\"id\":\"952dd6c3-270d-42e8-a209-b613ad58d81a\",\"type\":\"BasicTickFormatter\"},{\"attributes\":{},\"id\":\"4d68b8ae-f91b-4078-87f2-e512a928af0e\",\"type\":\"HelpTool\"},{\"attributes\":{\"data_source\":{\"id\":\"ddc4455f-4a3b-40de-bc53-31f9b7f5ff00\",\"type\":\"ColumnDataSource\"},\"glyph\":{\"id\":\"efc78fc4-8b33-461f-9f42-a2ffdfec6ae4\",\"type\":\"Line\"},\"hover_glyph\":null,\"muted_glyph\":null,\"nonselection_glyph\":{\"id\":\"06a9ff23-a570-407f-809d-bec90f204df6\",\"type\":\"Line\"},\"selection_glyph\":null,\"view\":{\"id\":\"5fa395e6-b2be-44b1-91b7-2feb7157534c\",\"type\":\"CDSView\"}},\"id\":\"764ae2c1-8722-4653-9414-c01a036e6d81\",\"type\":\"GlyphRenderer\"},{\"attributes\":{\"line_alpha\":{\"value\":0.1},\"line_color\":{\"value\":\"#1f77b4\"},\"line_width\":{\"value\":2},\"x\":{\"field\":\"x\"},\"y\":{\"field\":\"loss_discrim_real\"}},\"id\":\"db52fa27-bad0-49fc-a923-34f7af97fff9\",\"type\":\"Line\"},{\"attributes\":{\"active_drag\":\"auto\",\"active_inspect\":\"auto\",\"active_scroll\":\"auto\",\"active_tap\":\"auto\",\"tools\":[{\"id\":\"3e78483d-dbbe-4411-b187-72f340510920\",\"type\":\"PanTool\"},{\"id\":\"1474660c-91b6-4e45-8a7b-ef018956ab2a\",\"type\":\"WheelZoomTool\"},{\"id\":\"f419f291-6c42-4efd-86ab-8b6ee2627697\",\"type\":\"BoxZoomTool\"},{\"id\":\"02aa913b-bf90-4c68-ae6a-c36db01d9533\",\"type\":\"SaveTool\"},{\"id\":\"5dad3c77-b3cd-4297-b0f2-c009afd96fcf\",\"type\":\"ResetTool\"},{\"id\":\"479fe493-c8d8-4882-bee1-8b5ee39f9456\",\"type\":\"HelpTool\"}]},\"id\":\"af277083-35ff-49ca-9a6f-c1b7ee1f0b52\",\"type\":\"Toolbar\"},{\"attributes\":{\"formatter\":{\"id\":\"36a39a32-bf72-4979-b3df-66441503b67f\",\"type\":\"BasicTickFormatter\"},\"plot\":{\"id\":\"2de2830e-b068-45d6-bfdf-2a59a885cc67\",\"subtype\":\"Figure\",\"type\":\"Plot\"},\"ticker\":{\"id\":\"31624345-5c03-4419-8fd0-958dfb9828d5\",\"type\":\"BasicTicker\"}},\"id\":\"148111d0-9e64-47e4-ac77-41cb7db1b7b4\",\"type\":\"LinearAxis\"},{\"attributes\":{\"bottom_units\":\"screen\",\"fill_alpha\":{\"value\":0.5},\"fill_color\":{\"value\":\"lightgrey\"},\"left_units\":\"screen\",\"level\":\"overlay\",\"line_alpha\":{\"value\":1.0},\"line_color\":{\"value\":\"black\"},\"line_dash\":[4,4],\"line_width\":{\"value\":2},\"plot\":null,\"render_mode\":\"css\",\"right_units\":\"screen\",\"top_units\":\"screen\"},\"id\":\"291689ab-d001-4c31-b5fa-edd2cc86bd03\",\"type\":\"BoxAnnotation\"},{\"attributes\":{},\"id\":\"b7b9b571-57e7-4276-9393-7331e325f876\",\"type\":\"SaveTool\"},{\"attributes\":{\"source\":{\"id\":\"ed68ac2f-fa81-47fe-a6be-36dbd57b721c\",\"type\":\"ColumnDataSource\"}},\"id\":\"b71ece51-679f-4e90-8860-e6a54cdc24e5\",\"type\":\"CDSView\"},{\"attributes\":{\"label\":{\"value\":\"real distribution\"},\"renderers\":[{\"id\":\"6c540635-1923-4718-8069-6f6a0ad380a5\",\"type\":\"GlyphRenderer\"}]},\"id\":\"4a81cfa3-79b0-4543-9021-d98457c09ae2\",\"type\":\"LegendItem\"},{\"attributes\":{\"below\":[{\"id\":\"2d8a2c08-d891-499f-891d-4d8611e4764e\",\"type\":\"LinearAxis\"}],\"left\":[{\"id\":\"bb43c6fb-9682-4b15-9e22-0402b49214cb\",\"type\":\"LinearAxis\"}],\"plot_height\":350,\"plot_width\":350,\"renderers\":[{\"id\":\"2d8a2c08-d891-499f-891d-4d8611e4764e\",\"type\":\"LinearAxis\"},{\"id\":\"e4105094-da57-4028-b5b5-1aa0aaef59ac\",\"type\":\"Grid\"},{\"id\":\"bb43c6fb-9682-4b15-9e22-0402b49214cb\",\"type\":\"LinearAxis\"},{\"id\":\"ee1ffc33-46b7-4e43-81ea-1b633d91ee0a\",\"type\":\"Grid\"},{\"id\":\"291689ab-d001-4c31-b5fa-edd2cc86bd03\",\"type\":\"BoxAnnotation\"},{\"id\":\"5ad346ec-8ec5-48b5-b32a-b96f6af95b21\",\"type\":\"Legend\"},{\"id\":\"6c540635-1923-4718-8069-6f6a0ad380a5\",\"type\":\"GlyphRenderer\"},{\"id\":\"50530613-eb24-4f7b-842d-95aa15344c12\",\"type\":\"GlyphRenderer\"},{\"id\":\"764ae2c1-8722-4653-9414-c01a036e6d81\",\"type\":\"GlyphRenderer\"}],\"title\":{\"id\":\"22d1d01d-74e8-4fbd-9fec-85b9cdfd79a2\",\"type\":\"Title\"},\"toolbar\":{\"id\":\"af277083-35ff-49ca-9a6f-c1b7ee1f0b52\",\"type\":\"Toolbar\"},\"x_range\":{\"id\":\"9d462233-0926-4781-be89-572516b88cf2\",\"type\":\"Range1d\"},\"x_scale\":{\"id\":\"50433cc7-363a-4571-8ecf-c9a1f253888c\",\"type\":\"LinearScale\"},\"y_range\":{\"id\":\"d47ffbea-b60e-497b-9456-63f6ba5649ea\",\"type\":\"DataRange1d\"},\"y_scale\":{\"id\":\"08727f20-c3b9-45be-9cdf-d54417b4463d\",\"type\":\"LinearScale\"}},\"id\":\"a057ea3e-a7d2-483d-aa15-c3fabe28e114\",\"subtype\":\"Figure\",\"type\":\"Plot\"},{\"attributes\":{},\"id\":\"9670911c-ec82-460d-b87d-b2a89d854327\",\"type\":\"PanTool\"},{\"attributes\":{\"line_color\":{\"value\":\"green\"},\"line_width\":{\"value\":2},\"x\":{\"field\":\"x\"},\"y\":{\"field\":\"loss_discrim_fake\"}},\"id\":\"a807e2bf-3b01-4890-a303-b68e9e250ef5\",\"type\":\"Line\"},{\"attributes\":{},\"id\":\"c33b9c14-8a79-487e-9909-2385c9222947\",\"type\":\"WheelZoomTool\"},{\"attributes\":{\"line_alpha\":{\"value\":0.1},\"line_color\":{\"value\":\"#1f77b4\"},\"line_width\":{\"value\":2},\"x\":{\"field\":\"x\"},\"y\":{\"field\":\"loss_discrim_fake\"}},\"id\":\"4c189c34-ed99-4914-b201-be098a20953b\",\"type\":\"Line\"},{\"attributes\":{\"line_alpha\":{\"value\":0.1},\"line_color\":{\"value\":\"#1f77b4\"},\"line_width\":{\"value\":2},\"x\":{\"field\":\"x\"},\"y\":{\"field\":\"loss_generator\"}},\"id\":\"ef38e5b7-760e-4104-91fc-21bc873847ab\",\"type\":\"Line\"},{\"attributes\":{\"callback\":null,\"end\":8.0,\"start\":-8.0},\"id\":\"9d462233-0926-4781-be89-572516b88cf2\",\"type\":\"Range1d\"},{\"attributes\":{\"source\":{\"id\":\"a8c80ab5-0dcf-4fef-a866-b5819e18ee88\",\"type\":\"ColumnDataSource\"}},\"id\":\"02fcc246-aa7a-486d-8c1c-75a359c86810\",\"type\":\"CDSView\"},{\"attributes\":{},\"id\":\"50433cc7-363a-4571-8ecf-c9a1f253888c\",\"type\":\"LinearScale\"},{\"attributes\":{},\"id\":\"8a06cb8a-687d-4cce-a76a-39e8e46bf31d\",\"type\":\"LinearScale\"},{\"attributes\":{\"below\":[{\"id\":\"148111d0-9e64-47e4-ac77-41cb7db1b7b4\",\"type\":\"LinearAxis\"}],\"left\":[{\"id\":\"212a4d49-bf03-4786-a4e9-2beed91cad23\",\"type\":\"LinearAxis\"}],\"plot_height\":350,\"plot_width\":640,\"renderers\":[{\"id\":\"148111d0-9e64-47e4-ac77-41cb7db1b7b4\",\"type\":\"LinearAxis\"},{\"id\":\"c9c9865a-778d-47aa-bd6a-4eba106e173c\",\"type\":\"Grid\"},{\"id\":\"212a4d49-bf03-4786-a4e9-2beed91cad23\",\"type\":\"LinearAxis\"},{\"id\":\"2217ab0f-c85a-4801-a807-c49251abaa09\",\"type\":\"Grid\"},{\"id\":\"f1cc871a-19dd-4792-a8ec-1d732341b6b1\",\"type\":\"BoxAnnotation\"},{\"id\":\"af58a894-2bab-4f10-89ef-90e9e830ff06\",\"type\":\"Legend\"},{\"id\":\"ae25b987-2f2f-4306-b613-8aed39c611a4\",\"type\":\"GlyphRenderer\"},{\"id\":\"09803f7f-93c6-45c1-a0f8-f67d86ad207a\",\"type\":\"GlyphRenderer\"},{\"id\":\"fa9a2d2e-61b9-4a8e-a4f7-a773b09431a6\",\"type\":\"GlyphRenderer\"},{\"id\":\"1d859780-3319-4057-a742-37d491125874\",\"type\":\"GlyphRenderer\"}],\"title\":{\"id\":\"f68c8f9d-789e-4624-bb06-bcea158cbb2d\",\"type\":\"Title\"},\"toolbar\":{\"id\":\"e6cc48d0-f1bc-4b1f-a32d-02e43e43f9f9\",\"type\":\"Toolbar\"},\"x_range\":{\"id\":\"fd7f829f-c810-47b1-903a-169c02bd2ac6\",\"type\":\"DataRange1d\"},\"x_scale\":{\"id\":\"a2eacc6d-f797-4818-a86d-091d93781447\",\"type\":\"LinearScale\"},\"y_range\":{\"id\":\"25a17ac6-fa3f-4ea8-b8b4-06471c2fa3fd\",\"type\":\"DataRange1d\"},\"y_scale\":{\"id\":\"8a06cb8a-687d-4cce-a76a-39e8e46bf31d\",\"type\":\"LinearScale\"}},\"id\":\"2de2830e-b068-45d6-bfdf-2a59a885cc67\",\"subtype\":\"Figure\",\"type\":\"Plot\"},{\"attributes\":{\"plot\":{\"id\":\"a057ea3e-a7d2-483d-aa15-c3fabe28e114\",\"subtype\":\"Figure\",\"type\":\"Plot\"},\"ticker\":{\"id\":\"b0bc4873-7b96-411b-b6cb-aa46eab0ce96\",\"type\":\"BasicTicker\"}},\"id\":\"e4105094-da57-4028-b5b5-1aa0aaef59ac\",\"type\":\"Grid\"},{\"attributes\":{\"formatter\":{\"id\":\"952dd6c3-270d-42e8-a209-b613ad58d81a\",\"type\":\"BasicTickFormatter\"},\"plot\":{\"id\":\"2de2830e-b068-45d6-bfdf-2a59a885cc67\",\"subtype\":\"Figure\",\"type\":\"Plot\"},\"ticker\":{\"id\":\"e77aa7f5-8526-46ba-b8c0-30a045570abe\",\"type\":\"BasicTicker\"}},\"id\":\"212a4d49-bf03-4786-a4e9-2beed91cad23\",\"type\":\"LinearAxis\"},{\"attributes\":{},\"id\":\"08727f20-c3b9-45be-9cdf-d54417b4463d\",\"type\":\"LinearScale\"},{\"attributes\":{\"overlay\":{\"id\":\"291689ab-d001-4c31-b5fa-edd2cc86bd03\",\"type\":\"BoxAnnotation\"}},\"id\":\"f419f291-6c42-4efd-86ab-8b6ee2627697\",\"type\":\"BoxZoomTool\"},{\"attributes\":{},\"id\":\"b0bc4873-7b96-411b-b6cb-aa46eab0ce96\",\"type\":\"BasicTicker\"},{\"attributes\":{\"data_source\":{\"id\":\"ddc4455f-4a3b-40de-bc53-31f9b7f5ff00\",\"type\":\"ColumnDataSource\"},\"glyph\":{\"id\":\"935e0f5f-7974-4af3-aa08-7c778f2d8301\",\"type\":\"Line\"},\"hover_glyph\":null,\"muted_glyph\":null,\"nonselection_glyph\":{\"id\":\"f95d1efa-b6a0-4416-9778-b8ebc1d5dcd1\",\"type\":\"Line\"},\"selection_glyph\":null,\"view\":{\"id\":\"ff92ca73-984b-4cd5-a501-96c67214fb82\",\"type\":\"CDSView\"}},\"id\":\"50530613-eb24-4f7b-842d-95aa15344c12\",\"type\":\"GlyphRenderer\"},{\"attributes\":{\"line_color\":{\"value\":\"blue\"},\"line_width\":{\"value\":2},\"x\":{\"field\":\"x\"},\"y\":{\"field\":\"hist_real\"}},\"id\":\"99e3fb04-d3a2-451f-a93c-34c97f10a0d3\",\"type\":\"Line\"},{\"attributes\":{\"formatter\":{\"id\":\"67a542a4-9f32-4093-981e-007ca2ec09ac\",\"type\":\"BasicTickFormatter\"},\"plot\":{\"id\":\"a057ea3e-a7d2-483d-aa15-c3fabe28e114\",\"subtype\":\"Figure\",\"type\":\"Plot\"},\"ticker\":{\"id\":\"b0bc4873-7b96-411b-b6cb-aa46eab0ce96\",\"type\":\"BasicTicker\"}},\"id\":\"2d8a2c08-d891-499f-891d-4d8611e4764e\",\"type\":\"LinearAxis\"},{\"attributes\":{\"formatter\":{\"id\":\"745550fd-889f-48ac-a39f-6128028744e0\",\"type\":\"BasicTickFormatter\"},\"plot\":{\"id\":\"a057ea3e-a7d2-483d-aa15-c3fabe28e114\",\"subtype\":\"Figure\",\"type\":\"Plot\"},\"ticker\":{\"id\":\"8ffd8b8f-8cc7-4742-a92c-590302192dc3\",\"type\":\"BasicTicker\"}},\"id\":\"bb43c6fb-9682-4b15-9e22-0402b49214cb\",\"type\":\"LinearAxis\"},{\"attributes\":{},\"id\":\"67a542a4-9f32-4093-981e-007ca2ec09ac\",\"type\":\"BasicTickFormatter\"},{\"attributes\":{},\"id\":\"3e78483d-dbbe-4411-b187-72f340510920\",\"type\":\"PanTool\"},{\"attributes\":{\"data_source\":{\"id\":\"a8c80ab5-0dcf-4fef-a866-b5819e18ee88\",\"type\":\"ColumnDataSource\"},\"glyph\":{\"id\":\"5f8250f3-4555-47f4-8fe3-5a165b9d3444\",\"type\":\"Line\"},\"hover_glyph\":null,\"muted_glyph\":null,\"nonselection_glyph\":{\"id\":\"eb856406-9b24-43fa-bdf9-001e71778305\",\"type\":\"Line\"},\"selection_glyph\":null,\"view\":{\"id\":\"e34730f5-ed8e-47c7-a2c0-095709b40843\",\"type\":\"CDSView\"}},\"id\":\"fa9a2d2e-61b9-4a8e-a4f7-a773b09431a6\",\"type\":\"GlyphRenderer\"},{\"attributes\":{},\"id\":\"8ffd8b8f-8cc7-4742-a92c-590302192dc3\",\"type\":\"BasicTicker\"},{\"attributes\":{\"line_alpha\":{\"value\":0.1},\"line_color\":{\"value\":\"#1f77b4\"},\"line_width\":{\"value\":2},\"x\":{\"field\":\"x\"},\"y\":{\"field\":\"labels\"}},\"id\":\"f95d1efa-b6a0-4416-9778-b8ebc1d5dcd1\",\"type\":\"Line\"},{\"attributes\":{\"items\":[{\"id\":\"4a81cfa3-79b0-4543-9021-d98457c09ae2\",\"type\":\"LegendItem\"},{\"id\":\"97cc15ee-caff-498f-971c-002a9ace89ea\",\"type\":\"LegendItem\"},{\"id\":\"4347c68d-8b4a-4942-972d-7737fe03d3ed\",\"type\":\"LegendItem\"}],\"location\":\"top_left\",\"plot\":{\"id\":\"a057ea3e-a7d2-483d-aa15-c3fabe28e114\",\"subtype\":\"Figure\",\"type\":\"Plot\"}},\"id\":\"5ad346ec-8ec5-48b5-b32a-b96f6af95b21\",\"type\":\"Legend\"},{\"attributes\":{\"dimension\":1,\"plot\":{\"id\":\"a057ea3e-a7d2-483d-aa15-c3fabe28e114\",\"subtype\":\"Figure\",\"type\":\"Plot\"},\"ticker\":{\"id\":\"8ffd8b8f-8cc7-4742-a92c-590302192dc3\",\"type\":\"BasicTicker\"}},\"id\":\"ee1ffc33-46b7-4e43-81ea-1b633d91ee0a\",\"type\":\"Grid\"},{\"attributes\":{\"label\":{\"value\":\"G-loss\"},\"renderers\":[{\"id\":\"1d859780-3319-4057-a742-37d491125874\",\"type\":\"GlyphRenderer\"}]},\"id\":\"55fadcf6-48e2-4d99-b867-4503edcd7fb6\",\"type\":\"LegendItem\"},{\"attributes\":{},\"id\":\"479fe493-c8d8-4882-bee1-8b5ee39f9456\",\"type\":\"HelpTool\"}],\"root_ids\":[\"47e7f4f9-7a0d-4ad3-9619-446133f7b110\"]},\"title\":\"Bokeh Application\",\"version\":\"0.12.10\"}};\n",
       "    var render_items = [{\"docid\":\"9979fba6-ba20-4c13-a815-397c452ff93b\",\"elementid\":\"36c43abb-965b-4776-b1ab-529a0f464e98\",\"modelid\":\"47e7f4f9-7a0d-4ad3-9619-446133f7b110\",\"notebook_comms_target\":\"d0dd4a61-96dc-4332-8fd5-43dcfb78769f\"}];\n",
       "\n",
       "    root.Bokeh.embed.embed_items(docs_json, render_items);\n",
       "  }\n",
       "\n",
       "  if (root.Bokeh !== undefined) {\n",
       "    embed_document(root);\n",
       "  } else {\n",
       "    var attempts = 0;\n",
       "    var timer = setInterval(function(root) {\n",
       "      if (root.Bokeh !== undefined) {\n",
       "        embed_document(root);\n",
       "        clearInterval(timer);\n",
       "      }\n",
       "      attempts++;\n",
       "      if (attempts > 100) {\n",
       "        console.log(\"Bokeh: ERROR: Unable to embed document because BokehJS library is missing\")\n",
       "        clearInterval(timer);\n",
       "      }\n",
       "    }, 10, root)\n",
       "  }\n",
       "})(window);"
      ],
      "application/vnd.bokehjs_exec.v0+json": ""
     },
     "metadata": {
      "application/vnd.bokehjs_exec.v0+json": {
       "id": "47e7f4f9-7a0d-4ad3-9619-446133f7b110"
      }
     },
     "output_type": "display_data"
    }
   ],
   "source": [
    "train_gan(gan1, nb_points=4000, nb_bins=100, log_step=10, number_epochs=5000)"
   ]
  },
  {
   "cell_type": "markdown",
   "metadata": {},
   "source": [
    "#### With Generator2 and Discriminator2"
   ]
  },
  {
   "cell_type": "code",
   "execution_count": 23,
   "metadata": {},
   "outputs": [],
   "source": [
    "# define seed here such that each variant is \n",
    "# tested with same random sequence\n",
    "np.random.seed(42)\n",
    "real_sigma = 0.5\n",
    "real_mean = 4.0\n",
    "noise_range = 8.0\n",
    "hidden_dim = 4\n",
    "batch_size = 8\n",
    "sampler = Sampler(real_sigma, real_mean, noise_range, batch_size)\n",
    "gen2 = Generator2(1, hidden_dim)\n",
    "discrim2 = Discriminator2(1, hidden_dim)\n",
    "gan2 = GAN(sampler, gen2, discrim2)"
   ]
  },
  {
   "cell_type": "code",
   "execution_count": 24,
   "metadata": {},
   "outputs": [
    {
     "data": {
      "text/html": [
       "\n",
       "<div class=\"bk-root\">\n",
       "    <div class=\"bk-plotdiv\" id=\"e8b9a1c7-86d7-4abd-b5a3-210bbfcc199c\"></div>\n",
       "</div>"
      ]
     },
     "metadata": {},
     "output_type": "display_data"
    },
    {
     "data": {
      "application/javascript": [
       "(function(root) {\n",
       "  function embed_document(root) {\n",
       "    var docs_json = {\"0aec6b33-d320-483d-8558-dd898dd43a79\":{\"roots\":{\"references\":[{\"attributes\":{\"data_source\":{\"id\":\"b860e557-e038-4e25-b5ce-5f195e4bf3c4\",\"type\":\"ColumnDataSource\"},\"glyph\":{\"id\":\"99c2a6fb-6892-4cd5-a406-9efee0a39db1\",\"type\":\"Line\"},\"hover_glyph\":null,\"muted_glyph\":null,\"nonselection_glyph\":{\"id\":\"bfa8483a-069a-4b75-b3fe-6d403fa51cdf\",\"type\":\"Line\"},\"selection_glyph\":null,\"view\":{\"id\":\"c9dcbecc-f23f-4895-a1d9-9c151ab8d730\",\"type\":\"CDSView\"}},\"id\":\"76053d57-0d01-4606-bd08-301274737720\",\"type\":\"GlyphRenderer\"},{\"attributes\":{\"overlay\":{\"id\":\"c0cbef61-af15-46e5-9dcd-9ec86b07edd0\",\"type\":\"BoxAnnotation\"}},\"id\":\"a1bec555-ec58-42ff-9211-4455879b5997\",\"type\":\"BoxZoomTool\"},{\"attributes\":{\"data_source\":{\"id\":\"55bb61af-c19f-4b93-9bdd-30de000130e7\",\"type\":\"ColumnDataSource\"},\"glyph\":{\"id\":\"1eebfccc-1d14-4f09-b3f0-d57f592b6686\",\"type\":\"Line\"},\"hover_glyph\":null,\"muted_glyph\":null,\"nonselection_glyph\":{\"id\":\"b99bef7a-11e7-438b-82fa-5ccf1cedaaff\",\"type\":\"Line\"},\"selection_glyph\":null,\"view\":{\"id\":\"6e0e44f4-880a-45e3-a5e3-2e824ddcea01\",\"type\":\"CDSView\"}},\"id\":\"b282fc9f-1d1e-4cc4-8993-1493982e1ce1\",\"type\":\"GlyphRenderer\"},{\"attributes\":{},\"id\":\"1eaa2dd2-8087-4538-a8c3-5779ed1310f3\",\"type\":\"LinearScale\"},{\"attributes\":{},\"id\":\"a1d91891-837d-4a76-876a-d44f6c8c24bc\",\"type\":\"BasicTickFormatter\"},{\"attributes\":{\"source\":{\"id\":\"754848f7-9d43-4b80-81e5-83b5754501b7\",\"type\":\"ColumnDataSource\"}},\"id\":\"9ef2c127-725b-4489-8b03-9fd3342b5ee2\",\"type\":\"CDSView\"},{\"attributes\":{\"formatter\":{\"id\":\"ece0910e-0513-4998-a89a-41ce7628df0f\",\"type\":\"BasicTickFormatter\"},\"plot\":{\"id\":\"2599f701-9d90-4f56-8192-bb0f849a8eaa\",\"subtype\":\"Figure\",\"type\":\"Plot\"},\"ticker\":{\"id\":\"8b8231a5-57e9-4d79-a710-c09815ae59d1\",\"type\":\"BasicTicker\"}},\"id\":\"29b94a42-f3a8-42ff-9be9-db0b86875bd6\",\"type\":\"LinearAxis\"},{\"attributes\":{\"source\":{\"id\":\"55bb61af-c19f-4b93-9bdd-30de000130e7\",\"type\":\"ColumnDataSource\"}},\"id\":\"950a9427-d5ac-49ca-86e2-945ca29bf5ba\",\"type\":\"CDSView\"},{\"attributes\":{\"label\":{\"value\":\"fake distribution\"},\"renderers\":[{\"id\":\"bd12b396-c541-4074-b4df-8b7e990af7dc\",\"type\":\"GlyphRenderer\"}]},\"id\":\"4591d3ff-cf8d-47de-8e94-ad0180c4149d\",\"type\":\"LegendItem\"},{\"attributes\":{\"data_source\":{\"id\":\"55bb61af-c19f-4b93-9bdd-30de000130e7\",\"type\":\"ColumnDataSource\"},\"glyph\":{\"id\":\"3334dec3-d894-425a-a07d-ec7bad19b6aa\",\"type\":\"Line\"},\"hover_glyph\":null,\"muted_glyph\":null,\"nonselection_glyph\":{\"id\":\"5e22dd43-5773-4c8f-9be5-7b9314830622\",\"type\":\"Line\"},\"selection_glyph\":null,\"view\":{\"id\":\"950a9427-d5ac-49ca-86e2-945ca29bf5ba\",\"type\":\"CDSView\"}},\"id\":\"bd12b396-c541-4074-b4df-8b7e990af7dc\",\"type\":\"GlyphRenderer\"},{\"attributes\":{\"line_alpha\":{\"value\":0.1},\"line_color\":{\"value\":\"#1f77b4\"},\"line_width\":{\"value\":2},\"x\":{\"field\":\"x\"},\"y\":{\"field\":\"labels\"}},\"id\":\"b99bef7a-11e7-438b-82fa-5ccf1cedaaff\",\"type\":\"Line\"},{\"attributes\":{},\"id\":\"8b8231a5-57e9-4d79-a710-c09815ae59d1\",\"type\":\"BasicTicker\"},{\"attributes\":{\"callback\":null,\"column_names\":[\"x\",\"loss_discrim_real\",\"loss_discrim_fake\",\"loss_discrim_total\",\"loss_generator\"],\"data\":{\"loss_discrim_fake\":[0.0],\"loss_discrim_real\":[0.0],\"loss_discrim_total\":[0.0],\"loss_generator\":[0.0],\"x\":[0.0]}},\"id\":\"754848f7-9d43-4b80-81e5-83b5754501b7\",\"type\":\"ColumnDataSource\"},{\"attributes\":{\"line_color\":{\"value\":\"red\"},\"line_width\":{\"value\":2},\"x\":{\"field\":\"x\"},\"y\":{\"field\":\"hist_fake\"}},\"id\":\"3334dec3-d894-425a-a07d-ec7bad19b6aa\",\"type\":\"Line\"},{\"attributes\":{\"active_drag\":\"auto\",\"active_inspect\":\"auto\",\"active_scroll\":\"auto\",\"active_tap\":\"auto\",\"tools\":[{\"id\":\"20e7746f-b2a6-4dee-9bb2-19cb7bed77fc\",\"type\":\"PanTool\"},{\"id\":\"9f94e8a9-4f46-4d49-81a3-38ebcb3b0ec6\",\"type\":\"WheelZoomTool\"},{\"id\":\"a1bec555-ec58-42ff-9211-4455879b5997\",\"type\":\"BoxZoomTool\"},{\"id\":\"87d9c20b-3897-48ad-a3da-e7e9c6d4f885\",\"type\":\"SaveTool\"},{\"id\":\"3a7499a0-55b7-45c6-8ecc-4e29c057fee5\",\"type\":\"ResetTool\"},{\"id\":\"f20789aa-812c-4330-935c-5f18bd4f86b7\",\"type\":\"HelpTool\"}]},\"id\":\"17b5986f-2e3f-4d97-b5bf-28e7bc65b670\",\"type\":\"Toolbar\"},{\"attributes\":{},\"id\":\"c3b9dd89-b118-4170-9f4b-3d880b38a50d\",\"type\":\"LinearScale\"},{\"attributes\":{\"source\":{\"id\":\"754848f7-9d43-4b80-81e5-83b5754501b7\",\"type\":\"ColumnDataSource\"}},\"id\":\"df17646a-4729-4f0c-85ff-3fed6202a2e9\",\"type\":\"CDSView\"},{\"attributes\":{\"line_color\":{\"value\":\"green\"},\"line_width\":{\"value\":2},\"x\":{\"field\":\"x\"},\"y\":{\"field\":\"loss_discrim_fake\"}},\"id\":\"98f53e2d-04d0-4e5f-9a05-e261490f05d6\",\"type\":\"Line\"},{\"attributes\":{\"line_alpha\":{\"value\":0.1},\"line_color\":{\"value\":\"#1f77b4\"},\"line_width\":{\"value\":2},\"x\":{\"field\":\"x\"},\"y\":{\"field\":\"loss_discrim_fake\"}},\"id\":\"1e9538a7-28f9-4b27-b0f4-226946ff1eb1\",\"type\":\"Line\"},{\"attributes\":{\"label\":{\"value\":\"D-loss fake\"},\"renderers\":[{\"id\":\"c9ab768f-05eb-4c5f-b3be-54ed628e91f9\",\"type\":\"GlyphRenderer\"}]},\"id\":\"b5137c7a-bbe2-4f95-a7a8-9c947984aca6\",\"type\":\"LegendItem\"},{\"attributes\":{\"line_color\":{\"value\":\"red\"},\"line_width\":{\"value\":2},\"x\":{\"field\":\"x\"},\"y\":{\"field\":\"loss_discrim_total\"}},\"id\":\"968b9635-f952-438e-a6ed-46c60fa2276a\",\"type\":\"Line\"},{\"attributes\":{},\"id\":\"8bab4cb5-0d4f-4dbe-b822-3b9f27449216\",\"type\":\"WheelZoomTool\"},{\"attributes\":{},\"id\":\"6c1b449f-5f79-4987-b627-61a1814d55ba\",\"type\":\"BasicTickFormatter\"},{\"attributes\":{\"data_source\":{\"id\":\"754848f7-9d43-4b80-81e5-83b5754501b7\",\"type\":\"ColumnDataSource\"},\"glyph\":{\"id\":\"98f53e2d-04d0-4e5f-9a05-e261490f05d6\",\"type\":\"Line\"},\"hover_glyph\":null,\"muted_glyph\":null,\"nonselection_glyph\":{\"id\":\"1e9538a7-28f9-4b27-b0f4-226946ff1eb1\",\"type\":\"Line\"},\"selection_glyph\":null,\"view\":{\"id\":\"9ef2c127-725b-4489-8b03-9fd3342b5ee2\",\"type\":\"CDSView\"}},\"id\":\"c9ab768f-05eb-4c5f-b3be-54ed628e91f9\",\"type\":\"GlyphRenderer\"},{\"attributes\":{},\"id\":\"b4df64ce-595b-4ddd-b08c-4ab789c83883\",\"type\":\"PanTool\"},{\"attributes\":{\"children\":[{\"id\":\"7d55fdde-e9a0-4924-b456-095b74bae0bf\",\"subtype\":\"Figure\",\"type\":\"Plot\"},{\"id\":\"2599f701-9d90-4f56-8192-bb0f849a8eaa\",\"subtype\":\"Figure\",\"type\":\"Plot\"}]},\"id\":\"7c13496e-2a9f-4851-b077-687a8de822ee\",\"type\":\"Row\"},{\"attributes\":{\"label\":{\"value\":\"D-loss real\"},\"renderers\":[{\"id\":\"676d9b6f-7a8b-4f93-83cf-fcdb3e3965a1\",\"type\":\"GlyphRenderer\"}]},\"id\":\"3e9dda4e-4ed1-488c-ab36-deb4656532f7\",\"type\":\"LegendItem\"},{\"attributes\":{},\"id\":\"f20789aa-812c-4330-935c-5f18bd4f86b7\",\"type\":\"HelpTool\"},{\"attributes\":{\"overlay\":{\"id\":\"24882c16-4b90-4e4a-b3fa-c1823807b7f0\",\"type\":\"BoxAnnotation\"}},\"id\":\"622a065a-39e1-4afe-9ef3-8eafedbd348d\",\"type\":\"BoxZoomTool\"},{\"attributes\":{},\"id\":\"87d9c20b-3897-48ad-a3da-e7e9c6d4f885\",\"type\":\"SaveTool\"},{\"attributes\":{},\"id\":\"36203e90-eda3-471b-894f-62804698c89d\",\"type\":\"LinearScale\"},{\"attributes\":{\"bottom_units\":\"screen\",\"fill_alpha\":{\"value\":0.5},\"fill_color\":{\"value\":\"lightgrey\"},\"left_units\":\"screen\",\"level\":\"overlay\",\"line_alpha\":{\"value\":1.0},\"line_color\":{\"value\":\"black\"},\"line_dash\":[4,4],\"line_width\":{\"value\":2},\"plot\":null,\"render_mode\":\"css\",\"right_units\":\"screen\",\"top_units\":\"screen\"},\"id\":\"c0cbef61-af15-46e5-9dcd-9ec86b07edd0\",\"type\":\"BoxAnnotation\"},{\"attributes\":{\"plot\":null,\"text\":\"\"},\"id\":\"b7284b7d-ddd5-4997-820c-e4025c94ecca\",\"type\":\"Title\"},{\"attributes\":{},\"id\":\"14e1d1c0-2d67-4192-8642-ff196c1f91fe\",\"type\":\"ResetTool\"},{\"attributes\":{\"items\":[{\"id\":\"3e9dda4e-4ed1-488c-ab36-deb4656532f7\",\"type\":\"LegendItem\"},{\"id\":\"b5137c7a-bbe2-4f95-a7a8-9c947984aca6\",\"type\":\"LegendItem\"},{\"id\":\"77755a59-5472-40e2-bebe-27b4f8e3b00c\",\"type\":\"LegendItem\"},{\"id\":\"7a45d6b1-1f67-4f2e-a70a-302c04c30ce4\",\"type\":\"LegendItem\"}],\"plot\":{\"id\":\"2599f701-9d90-4f56-8192-bb0f849a8eaa\",\"subtype\":\"Figure\",\"type\":\"Plot\"}},\"id\":\"25d2a4af-bbaa-49a9-9a1b-6791c8f38bed\",\"type\":\"Legend\"},{\"attributes\":{\"source\":{\"id\":\"55bb61af-c19f-4b93-9bdd-30de000130e7\",\"type\":\"ColumnDataSource\"}},\"id\":\"6e0e44f4-880a-45e3-a5e3-2e824ddcea01\",\"type\":\"CDSView\"},{\"attributes\":{},\"id\":\"3a7499a0-55b7-45c6-8ecc-4e29c057fee5\",\"type\":\"ResetTool\"},{\"attributes\":{\"line_color\":{\"value\":\"blue\"},\"line_width\":{\"value\":2},\"x\":{\"field\":\"x\"},\"y\":{\"field\":\"loss_discrim_real\"}},\"id\":\"5d93dd49-a2eb-4712-a417-0b5a6903ebde\",\"type\":\"Line\"},{\"attributes\":{\"below\":[{\"id\":\"29b94a42-f3a8-42ff-9be9-db0b86875bd6\",\"type\":\"LinearAxis\"}],\"left\":[{\"id\":\"d1ee4c26-27ea-403b-b416-dabbf317c58d\",\"type\":\"LinearAxis\"}],\"plot_height\":350,\"plot_width\":640,\"renderers\":[{\"id\":\"29b94a42-f3a8-42ff-9be9-db0b86875bd6\",\"type\":\"LinearAxis\"},{\"id\":\"16269a5f-7a6c-499f-8dce-20d294ae5ca1\",\"type\":\"Grid\"},{\"id\":\"d1ee4c26-27ea-403b-b416-dabbf317c58d\",\"type\":\"LinearAxis\"},{\"id\":\"b597fc32-2b8b-4e02-ad55-8d55ffde0e75\",\"type\":\"Grid\"},{\"id\":\"c0cbef61-af15-46e5-9dcd-9ec86b07edd0\",\"type\":\"BoxAnnotation\"},{\"id\":\"25d2a4af-bbaa-49a9-9a1b-6791c8f38bed\",\"type\":\"Legend\"},{\"id\":\"676d9b6f-7a8b-4f93-83cf-fcdb3e3965a1\",\"type\":\"GlyphRenderer\"},{\"id\":\"c9ab768f-05eb-4c5f-b3be-54ed628e91f9\",\"type\":\"GlyphRenderer\"},{\"id\":\"4bac0415-fd04-4338-8ae2-3f90f2897905\",\"type\":\"GlyphRenderer\"},{\"id\":\"75c7e714-f148-4373-b504-b38b2e79ff21\",\"type\":\"GlyphRenderer\"}],\"title\":{\"id\":\"b7284b7d-ddd5-4997-820c-e4025c94ecca\",\"type\":\"Title\"},\"toolbar\":{\"id\":\"17b5986f-2e3f-4d97-b5bf-28e7bc65b670\",\"type\":\"Toolbar\"},\"x_range\":{\"id\":\"44d852c6-e915-4ea1-a8a5-84f8abac87ce\",\"type\":\"DataRange1d\"},\"x_scale\":{\"id\":\"c3b9dd89-b118-4170-9f4b-3d880b38a50d\",\"type\":\"LinearScale\"},\"y_range\":{\"id\":\"398b0679-3a48-49d6-abdd-260c30bd93b9\",\"type\":\"DataRange1d\"},\"y_scale\":{\"id\":\"1eaa2dd2-8087-4538-a8c3-5779ed1310f3\",\"type\":\"LinearScale\"}},\"id\":\"2599f701-9d90-4f56-8192-bb0f849a8eaa\",\"subtype\":\"Figure\",\"type\":\"Plot\"},{\"attributes\":{\"plot\":{\"id\":\"7d55fdde-e9a0-4924-b456-095b74bae0bf\",\"subtype\":\"Figure\",\"type\":\"Plot\"},\"ticker\":{\"id\":\"c674ceb9-c743-4ed9-8ec1-0718b0ee644d\",\"type\":\"BasicTicker\"}},\"id\":\"92438591-f796-4502-9aa9-1d2674cc1868\",\"type\":\"Grid\"},{\"attributes\":{\"data_source\":{\"id\":\"754848f7-9d43-4b80-81e5-83b5754501b7\",\"type\":\"ColumnDataSource\"},\"glyph\":{\"id\":\"5d93dd49-a2eb-4712-a417-0b5a6903ebde\",\"type\":\"Line\"},\"hover_glyph\":null,\"muted_glyph\":null,\"nonselection_glyph\":{\"id\":\"81448cb3-22f7-43b0-a795-a5f7d62c3e13\",\"type\":\"Line\"},\"selection_glyph\":null,\"view\":{\"id\":\"df17646a-4729-4f0c-85ff-3fed6202a2e9\",\"type\":\"CDSView\"}},\"id\":\"676d9b6f-7a8b-4f93-83cf-fcdb3e3965a1\",\"type\":\"GlyphRenderer\"},{\"attributes\":{},\"id\":\"bf91069b-0896-441c-9dcd-0f5c0d476b7e\",\"type\":\"HelpTool\"},{\"attributes\":{},\"id\":\"df0c5223-677b-46f1-bd3d-ed35b987a41e\",\"type\":\"BasicTicker\"},{\"attributes\":{\"line_alpha\":{\"value\":0.1},\"line_color\":{\"value\":\"#1f77b4\"},\"line_width\":{\"value\":2},\"x\":{\"field\":\"x\"},\"y\":{\"field\":\"loss_discrim_total\"}},\"id\":\"26b546e6-7263-43f9-a6ba-a0987b7697a7\",\"type\":\"Line\"},{\"attributes\":{\"source\":{\"id\":\"b860e557-e038-4e25-b5ce-5f195e4bf3c4\",\"type\":\"ColumnDataSource\"}},\"id\":\"c9dcbecc-f23f-4895-a1d9-9c151ab8d730\",\"type\":\"CDSView\"},{\"attributes\":{},\"id\":\"9f94e8a9-4f46-4d49-81a3-38ebcb3b0ec6\",\"type\":\"WheelZoomTool\"},{\"attributes\":{},\"id\":\"e00c997b-80f9-4b30-9780-3100df7df5b8\",\"type\":\"LinearScale\"},{\"attributes\":{\"line_color\":{\"value\":\"green\"},\"line_width\":{\"value\":2},\"x\":{\"field\":\"x\"},\"y\":{\"field\":\"labels\"}},\"id\":\"1eebfccc-1d14-4f09-b3f0-d57f592b6686\",\"type\":\"Line\"},{\"attributes\":{},\"id\":\"20e7746f-b2a6-4dee-9bb2-19cb7bed77fc\",\"type\":\"PanTool\"},{\"attributes\":{},\"id\":\"ece0910e-0513-4998-a89a-41ce7628df0f\",\"type\":\"BasicTickFormatter\"},{\"attributes\":{\"plot\":{\"id\":\"2599f701-9d90-4f56-8192-bb0f849a8eaa\",\"subtype\":\"Figure\",\"type\":\"Plot\"},\"ticker\":{\"id\":\"8b8231a5-57e9-4d79-a710-c09815ae59d1\",\"type\":\"BasicTicker\"}},\"id\":\"16269a5f-7a6c-499f-8dce-20d294ae5ca1\",\"type\":\"Grid\"},{\"attributes\":{\"source\":{\"id\":\"754848f7-9d43-4b80-81e5-83b5754501b7\",\"type\":\"ColumnDataSource\"}},\"id\":\"73ca912f-af29-46e6-b2e2-1866d196adf6\",\"type\":\"CDSView\"},{\"attributes\":{\"items\":[{\"id\":\"60d30a12-b135-4326-90b8-71701d454bb4\",\"type\":\"LegendItem\"},{\"id\":\"e9fda5d2-5a73-438b-b3a5-3e6d2e9f6c76\",\"type\":\"LegendItem\"},{\"id\":\"4591d3ff-cf8d-47de-8e94-ad0180c4149d\",\"type\":\"LegendItem\"}],\"location\":\"top_left\",\"plot\":{\"id\":\"7d55fdde-e9a0-4924-b456-095b74bae0bf\",\"subtype\":\"Figure\",\"type\":\"Plot\"}},\"id\":\"d9266447-de67-433c-97db-9815a67af24b\",\"type\":\"Legend\"},{\"attributes\":{\"line_alpha\":{\"value\":0.1},\"line_color\":{\"value\":\"#1f77b4\"},\"line_width\":{\"value\":2},\"x\":{\"field\":\"x\"},\"y\":{\"field\":\"loss_discrim_real\"}},\"id\":\"81448cb3-22f7-43b0-a795-a5f7d62c3e13\",\"type\":\"Line\"},{\"attributes\":{\"label\":{\"value\":\"D-loss total\"},\"renderers\":[{\"id\":\"4bac0415-fd04-4338-8ae2-3f90f2897905\",\"type\":\"GlyphRenderer\"}]},\"id\":\"77755a59-5472-40e2-bebe-27b4f8e3b00c\",\"type\":\"LegendItem\"},{\"attributes\":{\"bottom_units\":\"screen\",\"fill_alpha\":{\"value\":0.5},\"fill_color\":{\"value\":\"lightgrey\"},\"left_units\":\"screen\",\"level\":\"overlay\",\"line_alpha\":{\"value\":1.0},\"line_color\":{\"value\":\"black\"},\"line_dash\":[4,4],\"line_width\":{\"value\":2},\"plot\":null,\"render_mode\":\"css\",\"right_units\":\"screen\",\"top_units\":\"screen\"},\"id\":\"24882c16-4b90-4e4a-b3fa-c1823807b7f0\",\"type\":\"BoxAnnotation\"},{\"attributes\":{\"callback\":null},\"id\":\"398b0679-3a48-49d6-abdd-260c30bd93b9\",\"type\":\"DataRange1d\"},{\"attributes\":{\"data_source\":{\"id\":\"754848f7-9d43-4b80-81e5-83b5754501b7\",\"type\":\"ColumnDataSource\"},\"glyph\":{\"id\":\"90a18819-9928-4f23-bd83-211e0c34c039\",\"type\":\"Line\"},\"hover_glyph\":null,\"muted_glyph\":null,\"nonselection_glyph\":{\"id\":\"fe7743c1-9661-48f5-98f9-d653e3e96f38\",\"type\":\"Line\"},\"selection_glyph\":null,\"view\":{\"id\":\"f32f7335-6c44-4dca-9565-dcacc1802d43\",\"type\":\"CDSView\"}},\"id\":\"75c7e714-f148-4373-b504-b38b2e79ff21\",\"type\":\"GlyphRenderer\"},{\"attributes\":{\"callback\":null},\"id\":\"2ad87d10-8245-4b02-a3ee-d75d9062bd37\",\"type\":\"DataRange1d\"},{\"attributes\":{\"data_source\":{\"id\":\"754848f7-9d43-4b80-81e5-83b5754501b7\",\"type\":\"ColumnDataSource\"},\"glyph\":{\"id\":\"968b9635-f952-438e-a6ed-46c60fa2276a\",\"type\":\"Line\"},\"hover_glyph\":null,\"muted_glyph\":null,\"nonselection_glyph\":{\"id\":\"26b546e6-7263-43f9-a6ba-a0987b7697a7\",\"type\":\"Line\"},\"selection_glyph\":null,\"view\":{\"id\":\"73ca912f-af29-46e6-b2e2-1866d196adf6\",\"type\":\"CDSView\"}},\"id\":\"4bac0415-fd04-4338-8ae2-3f90f2897905\",\"type\":\"GlyphRenderer\"},{\"attributes\":{},\"id\":\"39c7e059-a92c-42e5-b984-383da1a655a3\",\"type\":\"BasicTickFormatter\"},{\"attributes\":{\"dimension\":1,\"plot\":{\"id\":\"2599f701-9d90-4f56-8192-bb0f849a8eaa\",\"subtype\":\"Figure\",\"type\":\"Plot\"},\"ticker\":{\"id\":\"df0c5223-677b-46f1-bd3d-ed35b987a41e\",\"type\":\"BasicTicker\"}},\"id\":\"b597fc32-2b8b-4e02-ad55-8d55ffde0e75\",\"type\":\"Grid\"},{\"attributes\":{\"line_alpha\":{\"value\":0.1},\"line_color\":{\"value\":\"#1f77b4\"},\"line_width\":{\"value\":2},\"x\":{\"field\":\"x\"},\"y\":{\"field\":\"loss_generator\"}},\"id\":\"fe7743c1-9661-48f5-98f9-d653e3e96f38\",\"type\":\"Line\"},{\"attributes\":{\"callback\":null,\"column_names\":[\"hist_real\",\"x\"],\"data\":{\"hist_real\":{\"__ndarray__\":\"AAAAAAAAAAAAAAAAAAAAAAAAAAAAAAAAAAAAAAAAAAAAAAAAAAAAAAAAAAAAAAAAAAAAAAAAAAAAAAAAAAAAAAAAAAAAAAAAAAAAAAAAAAAAAAAAAAAAAAAAAAAAAAAAAAAAAAAAAAAAAAAAAAAAAAAAAAAAAAAAAAAAAAAAAAAAAAAAAAAAAAAAAAAAAAAAAAAAAAAAAAAAAAAAAAAAAAAAAAAAAAAAAAAAAAAAAAAAAAAAAAAAAAAAAAAAAAAAAAAAAAAAAAAAAAAAAAAAAAAAAAAAAAAAAAAAAAAAAAAAAAAAAAAAAAAAAAAAAAAAAAAAAAAAAAAAAAAAAAAAAAAAAAAAAAAAAAAAAAAAAAAAAAAAAAAAAAAAAAAAAAAAAAAAAAAAAAAAAAAAAAAAAAAAAAAAAAAAAAAAAAAAAAAAAAAAAAAAAAAAAAAAAAAAAAAAAAAAAAAAAAAAAAAAAAAAAAAAAAAAAAAAAAAAAAAAAAAAAAAAAAAAAAAAAAAAAAAAAAAAAAAAAAAAAAAAAAAAAAAAAAAAAAAAAAAAAAAAAAAAAAAAAAAAAAAAAAAAAAAAAAAAAAAAAAAAAAAAAAAAAAAAAAAAAAAAAAAAAAAAAAAAAAAAAAAAAAAAAAAAAAAAAAAAAAAAAAAAAAAAAAAAAAAAAAAAAAAAAAAAAABOXrpJDAJzP+aAlUOLbJE/hBKDwMqhoD9976fGSzeyP9BJDAIrB8E/o873U+PlzT96ZDvfT43YP2AMAiuHRuE/e0W28/2U5T+0Q4ts59vnP5cgsHJocek/bDeJQWAl6T/HR+F6FE7jPzoSg8DKAd0/x0fhehRO0z+leOkmMYjKPz7ZzvdT474/mPUoXI/Cpz+wGARWDi2WP05eukkMAoM/El66SQwCcz8AAAAAAAAAAMTSTWIQWGk/AAAAAAAAAAAAAAAAAAAAAAAAAAAAAAAAAAAAAAAAAAAAAAAAAAAAAAAAAAAAAAAAAAAAAAAAAAAAAAAAAAAAAAAAAAAAAAAAAAAAAAAAAAAAAAAAAAAAAAAAAAAAAAAA\",\"dtype\":\"float64\",\"shape\":[99]},\"x\":{\"__ndarray__\":\"AAAAAAAAIMDWh8b60FgfwKwPjfWhsR7Ag5dT8HIKHsBZHxrrQ2MdwC+n4OUUvBzABS+n4OUUHMDctm3btm0bwLI+NNaHxhrAiMb60FgfGsBeTsHLKXgZwDTWh8b60BjACl5OwcspGMDh5RS8nIIXwLdt27Zt2xbAjvWhsT40FsBkfWisD40VwDoFL6fg5RTAEI31obE+FMDmFLycgpcTwLycgpdT8BLAkiRJkiRJEsBprA+N9aERwD801ofG+hDAFbycgpdTEMDWh8b60FgPwISXU/ByCg7AMKfg5RS8DMDctm3btm0LwIjG+tBYHwrANtaHxvrQCMDi5RS8nIIHwI71obE+NAbAOgUvp+DlBMDmFLycgpcDwJQkSZIkSQLAQDTWh8b6AMDYh8b60Fj/vzCn4OUUvPy/jMb60Fgf+r/k5RS8nIL3vzwFL6fg5fS/lCRJkiRJ8r/Yh8b60Fjvv5DG+tBYH+q/QAUvp+Dl5L/gh8b60Fjfv0AFL6fg5dS/QAUvp+DlxL8AAAAAAADQvEAFL6fg5cQ/IAUvp+Dl1D/Ah8b60FjfPzAFL6fg5eQ/gMb60Fgf6j/Qh8b60FjvP5AkSZIkSfI/OAUvp+Dl9D/g5RS8nIL3P4jG+tBYH/o/KKfg5RS8/D/Qh8b60Fj/Pzw01ofG+gBAkCRJkiRJAkDkFLycgpcDQDgFL6fg5QRAjPWhsT40BkDg5RS8nIIHQDTWh8b60AhAhMb60FgfCkDYtm3btm0LQCyn4OUUvAxAgJdT8HIKDkDUh8b60FgPQBS8nIKXUxBAPjTWh8b6EEBorA+N9aERQJIkSZIkSRJAupyCl1PwEkDkFLycgpcTQA6N9aGxPhRAOAUvp+DlFEBifWisD40VQIz1obE+NBZAtm3btm3bFkDg5RS8nIIXQApeTsHLKRhAMtaHxvrQGEBcTsHLKXgZQIbG+tBYHxpAsD401ofGGkDatm3btm0bQAQvp+DlFBxALqfg5RS8HEBYHxrrQ2MdQIKXU/ByCh5ArA+N9aGxHkDUh8b60FgfQAAAAAAAACBA\",\"dtype\":\"float64\",\"shape\":[99]}}},\"id\":\"b860e557-e038-4e25-b5ce-5f195e4bf3c4\",\"type\":\"ColumnDataSource\"},{\"attributes\":{\"formatter\":{\"id\":\"6c1b449f-5f79-4987-b627-61a1814d55ba\",\"type\":\"BasicTickFormatter\"},\"plot\":{\"id\":\"2599f701-9d90-4f56-8192-bb0f849a8eaa\",\"subtype\":\"Figure\",\"type\":\"Plot\"},\"ticker\":{\"id\":\"df0c5223-677b-46f1-bd3d-ed35b987a41e\",\"type\":\"BasicTicker\"}},\"id\":\"d1ee4c26-27ea-403b-b416-dabbf317c58d\",\"type\":\"LinearAxis\"},{\"attributes\":{\"callback\":null},\"id\":\"44d852c6-e915-4ea1-a8a5-84f8abac87ce\",\"type\":\"DataRange1d\"},{\"attributes\":{\"line_color\":{\"value\":\"blue\"},\"line_width\":{\"value\":2},\"x\":{\"field\":\"x\"},\"y\":{\"field\":\"hist_real\"}},\"id\":\"99c2a6fb-6892-4cd5-a406-9efee0a39db1\",\"type\":\"Line\"},{\"attributes\":{\"label\":{\"value\":\"G-loss\"},\"renderers\":[{\"id\":\"75c7e714-f148-4373-b504-b38b2e79ff21\",\"type\":\"GlyphRenderer\"}]},\"id\":\"7a45d6b1-1f67-4f2e-a70a-302c04c30ce4\",\"type\":\"LegendItem\"},{\"attributes\":{\"label\":{\"value\":\"real distribution\"},\"renderers\":[{\"id\":\"76053d57-0d01-4606-bd08-301274737720\",\"type\":\"GlyphRenderer\"}]},\"id\":\"60d30a12-b135-4326-90b8-71701d454bb4\",\"type\":\"LegendItem\"},{\"attributes\":{\"label\":{\"value\":\"decision\"},\"renderers\":[{\"id\":\"b282fc9f-1d1e-4cc4-8993-1493982e1ce1\",\"type\":\"GlyphRenderer\"}]},\"id\":\"e9fda5d2-5a73-438b-b3a5-3e6d2e9f6c76\",\"type\":\"LegendItem\"},{\"attributes\":{\"line_width\":{\"value\":2},\"x\":{\"field\":\"x\"},\"y\":{\"field\":\"loss_generator\"}},\"id\":\"90a18819-9928-4f23-bd83-211e0c34c039\",\"type\":\"Line\"},{\"attributes\":{\"line_alpha\":{\"value\":0.1},\"line_color\":{\"value\":\"#1f77b4\"},\"line_width\":{\"value\":2},\"x\":{\"field\":\"x\"},\"y\":{\"field\":\"hist_fake\"}},\"id\":\"5e22dd43-5773-4c8f-9be5-7b9314830622\",\"type\":\"Line\"},{\"attributes\":{\"source\":{\"id\":\"754848f7-9d43-4b80-81e5-83b5754501b7\",\"type\":\"ColumnDataSource\"}},\"id\":\"f32f7335-6c44-4dca-9565-dcacc1802d43\",\"type\":\"CDSView\"},{\"attributes\":{\"plot\":null,\"text\":\"\"},\"id\":\"7f73b8f8-44a2-4a8d-b519-d2262197250b\",\"type\":\"Title\"},{\"attributes\":{\"line_alpha\":{\"value\":0.1},\"line_color\":{\"value\":\"#1f77b4\"},\"line_width\":{\"value\":2},\"x\":{\"field\":\"x\"},\"y\":{\"field\":\"hist_real\"}},\"id\":\"bfa8483a-069a-4b75-b3fe-6d403fa51cdf\",\"type\":\"Line\"},{\"attributes\":{\"formatter\":{\"id\":\"a1d91891-837d-4a76-876a-d44f6c8c24bc\",\"type\":\"BasicTickFormatter\"},\"plot\":{\"id\":\"7d55fdde-e9a0-4924-b456-095b74bae0bf\",\"subtype\":\"Figure\",\"type\":\"Plot\"},\"ticker\":{\"id\":\"bdf6f013-91d7-4c36-b664-9109cbbda4df\",\"type\":\"BasicTicker\"}},\"id\":\"090f9660-faf8-4f60-9188-29816daef6d1\",\"type\":\"LinearAxis\"},{\"attributes\":{},\"id\":\"148aed29-52ab-4f8a-87c5-a2ede461f304\",\"type\":\"SaveTool\"},{\"attributes\":{\"active_drag\":\"auto\",\"active_inspect\":\"auto\",\"active_scroll\":\"auto\",\"active_tap\":\"auto\",\"tools\":[{\"id\":\"b4df64ce-595b-4ddd-b08c-4ab789c83883\",\"type\":\"PanTool\"},{\"id\":\"8bab4cb5-0d4f-4dbe-b822-3b9f27449216\",\"type\":\"WheelZoomTool\"},{\"id\":\"622a065a-39e1-4afe-9ef3-8eafedbd348d\",\"type\":\"BoxZoomTool\"},{\"id\":\"148aed29-52ab-4f8a-87c5-a2ede461f304\",\"type\":\"SaveTool\"},{\"id\":\"14e1d1c0-2d67-4192-8642-ff196c1f91fe\",\"type\":\"ResetTool\"},{\"id\":\"bf91069b-0896-441c-9dcd-0f5c0d476b7e\",\"type\":\"HelpTool\"}]},\"id\":\"630db33f-c7e3-443e-ab6a-bc71cdddb321\",\"type\":\"Toolbar\"},{\"attributes\":{\"formatter\":{\"id\":\"39c7e059-a92c-42e5-b984-383da1a655a3\",\"type\":\"BasicTickFormatter\"},\"plot\":{\"id\":\"7d55fdde-e9a0-4924-b456-095b74bae0bf\",\"subtype\":\"Figure\",\"type\":\"Plot\"},\"ticker\":{\"id\":\"c674ceb9-c743-4ed9-8ec1-0718b0ee644d\",\"type\":\"BasicTicker\"}},\"id\":\"f1bc381e-e702-492c-ac52-d8cd91aae857\",\"type\":\"LinearAxis\"},{\"attributes\":{\"below\":[{\"id\":\"f1bc381e-e702-492c-ac52-d8cd91aae857\",\"type\":\"LinearAxis\"}],\"left\":[{\"id\":\"090f9660-faf8-4f60-9188-29816daef6d1\",\"type\":\"LinearAxis\"}],\"plot_height\":350,\"plot_width\":350,\"renderers\":[{\"id\":\"f1bc381e-e702-492c-ac52-d8cd91aae857\",\"type\":\"LinearAxis\"},{\"id\":\"92438591-f796-4502-9aa9-1d2674cc1868\",\"type\":\"Grid\"},{\"id\":\"090f9660-faf8-4f60-9188-29816daef6d1\",\"type\":\"LinearAxis\"},{\"id\":\"6f1f1d40-30dc-4f6b-98ac-3b2c21609a21\",\"type\":\"Grid\"},{\"id\":\"24882c16-4b90-4e4a-b3fa-c1823807b7f0\",\"type\":\"BoxAnnotation\"},{\"id\":\"d9266447-de67-433c-97db-9815a67af24b\",\"type\":\"Legend\"},{\"id\":\"76053d57-0d01-4606-bd08-301274737720\",\"type\":\"GlyphRenderer\"},{\"id\":\"b282fc9f-1d1e-4cc4-8993-1493982e1ce1\",\"type\":\"GlyphRenderer\"},{\"id\":\"bd12b396-c541-4074-b4df-8b7e990af7dc\",\"type\":\"GlyphRenderer\"}],\"title\":{\"id\":\"7f73b8f8-44a2-4a8d-b519-d2262197250b\",\"type\":\"Title\"},\"toolbar\":{\"id\":\"630db33f-c7e3-443e-ab6a-bc71cdddb321\",\"type\":\"Toolbar\"},\"x_range\":{\"id\":\"b23bd88e-9970-479f-bdff-5a1f185f3948\",\"type\":\"Range1d\"},\"x_scale\":{\"id\":\"36203e90-eda3-471b-894f-62804698c89d\",\"type\":\"LinearScale\"},\"y_range\":{\"id\":\"2ad87d10-8245-4b02-a3ee-d75d9062bd37\",\"type\":\"DataRange1d\"},\"y_scale\":{\"id\":\"e00c997b-80f9-4b30-9780-3100df7df5b8\",\"type\":\"LinearScale\"}},\"id\":\"7d55fdde-e9a0-4924-b456-095b74bae0bf\",\"subtype\":\"Figure\",\"type\":\"Plot\"},{\"attributes\":{\"callback\":null,\"column_names\":[\"x\",\"labels\",\"hist_fake\"],\"data\":{\"hist_fake\":[],\"labels\":[],\"x\":[]}},\"id\":\"55bb61af-c19f-4b93-9bdd-30de000130e7\",\"type\":\"ColumnDataSource\"},{\"attributes\":{},\"id\":\"bdf6f013-91d7-4c36-b664-9109cbbda4df\",\"type\":\"BasicTicker\"},{\"attributes\":{\"callback\":null,\"end\":8.0,\"start\":-8.0},\"id\":\"b23bd88e-9970-479f-bdff-5a1f185f3948\",\"type\":\"Range1d\"},{\"attributes\":{},\"id\":\"c674ceb9-c743-4ed9-8ec1-0718b0ee644d\",\"type\":\"BasicTicker\"},{\"attributes\":{\"dimension\":1,\"plot\":{\"id\":\"7d55fdde-e9a0-4924-b456-095b74bae0bf\",\"subtype\":\"Figure\",\"type\":\"Plot\"},\"ticker\":{\"id\":\"bdf6f013-91d7-4c36-b664-9109cbbda4df\",\"type\":\"BasicTicker\"}},\"id\":\"6f1f1d40-30dc-4f6b-98ac-3b2c21609a21\",\"type\":\"Grid\"}],\"root_ids\":[\"7c13496e-2a9f-4851-b077-687a8de822ee\"]},\"title\":\"Bokeh Application\",\"version\":\"0.12.10\"}};\n",
       "    var render_items = [{\"docid\":\"0aec6b33-d320-483d-8558-dd898dd43a79\",\"elementid\":\"e8b9a1c7-86d7-4abd-b5a3-210bbfcc199c\",\"modelid\":\"7c13496e-2a9f-4851-b077-687a8de822ee\",\"notebook_comms_target\":\"d159d606-31ec-486d-ba41-acc7fc3473ff\"}];\n",
       "\n",
       "    root.Bokeh.embed.embed_items(docs_json, render_items);\n",
       "  }\n",
       "\n",
       "  if (root.Bokeh !== undefined) {\n",
       "    embed_document(root);\n",
       "  } else {\n",
       "    var attempts = 0;\n",
       "    var timer = setInterval(function(root) {\n",
       "      if (root.Bokeh !== undefined) {\n",
       "        embed_document(root);\n",
       "        clearInterval(timer);\n",
       "      }\n",
       "      attempts++;\n",
       "      if (attempts > 100) {\n",
       "        console.log(\"Bokeh: ERROR: Unable to embed document because BokehJS library is missing\")\n",
       "        clearInterval(timer);\n",
       "      }\n",
       "    }, 10, root)\n",
       "  }\n",
       "})(window);"
      ],
      "application/vnd.bokehjs_exec.v0+json": ""
     },
     "metadata": {
      "application/vnd.bokehjs_exec.v0+json": {
       "id": "7c13496e-2a9f-4851-b077-687a8de822ee"
      }
     },
     "output_type": "display_data"
    }
   ],
   "source": [
    "train_gan(gan2, nb_points=4000, nb_bins=100, log_step=10, number_epochs=5000)"
   ]
  },
  {
   "cell_type": "markdown",
   "metadata": {},
   "source": [
    "### Optional"
   ]
  },
  {
   "cell_type": "markdown",
   "metadata": {},
   "source": [
    "#### Test generator\n",
    "\n",
    "This performs a test to validate the behavior of the generator. It's tested against an implementation of the same model using numpy. It illustrates how weights and bias values in PyTorch layers can be set to evaluate a model."
   ]
  },
  {
   "cell_type": "code",
   "execution_count": null,
   "metadata": {
    "collapsed": true
   },
   "outputs": [],
   "source": [
    "def generator_numpy():\n",
    "    in_vals = np.matrix([[1. , 2., 3., 4.]])\n",
    "    w1 = np.matrix([[1.], [2.], [3.], [4.]])\n",
    "    w2 = np.matrix([[1., 2., 3., 4.]])\n",
    "    res1 = w1 * in_vals\n",
    "    res2 = np.log(1. + np.exp(res1))\n",
    "    res3 = w2 * res2\n",
    "    return res3"
   ]
  },
  {
   "cell_type": "code",
   "execution_count": null,
   "metadata": {
    "collapsed": true
   },
   "outputs": [],
   "source": [
    "hidden_dims_test = 4\n",
    "test_weights = np.array([[1.], [2.], [3.], [4.]])\n",
    "weights_gen_fc1 = test_weights\n",
    "bias_gen_fc1 = np.zeros((hidden_dims_test,1))\n",
    "weights_gen_fc2 = test_weights.transpose()\n",
    "bias_gen_fc2 = np.zeros((1,1))\n",
    "\n",
    "gen = Generator(1,hidden_dims_test)\n",
    "gen.fc1.weight.data = torch.FloatTensor(weights_gen_fc1)\n",
    "gen.fc1.bias.data = torch.FloatTensor(bias_gen_fc1)\n",
    "gen.fc2.weight.data = torch.FloatTensor(weights_gen_fc2)\n",
    "gen.fc2.bias.data = torch.FloatTensor(bias_gen_fc2)\n",
    "\n",
    "res = gen(Variable(torch.FloatTensor([[1.], [2.], [3.], [4.]])))\n",
    "\n",
    "np.testing.assert_almost_equal(\n",
    "    res.data.numpy(),                            \n",
    "    generator_numpy().transpose(), decimal=5)"
   ]
  },
  {
   "cell_type": "markdown",
   "metadata": {},
   "source": [
    "#### Test discriminator\n",
    "\n",
    "This performs a test of the discriminator model, using baseline values obtained by running equivalent model in TensorFlow."
   ]
  },
  {
   "cell_type": "code",
   "execution_count": null,
   "metadata": {
    "collapsed": true
   },
   "outputs": [],
   "source": [
    "hidden_dims_test = 4\n",
    "test_weights = np.array([[0.5, -1.5, 0.33, -0.15]])\n",
    "weights = [test_weights.transpose(), \n",
    "           np.tile(test_weights, (4,1)),\n",
    "           np.tile(test_weights, (4,1)).transpose(), \n",
    "           np.array(np.fliplr(test_weights))] \n",
    "# pytorch does not (yet) support negative stride\n",
    "\n",
    "discrim = Discriminator(1, hidden_dims_test)    \n",
    "for layer, w in zip(discrim.fc_layers, weights):\n",
    "    layer.weight.data = torch.FloatTensor(w)\n",
    "\n",
    "res = discrim(Variable(torch.FloatTensor(\n",
    "    [[1.0],[0.5],[3.0],[0.0]])))\n",
    "\n",
    "np.testing.assert_almost_equal(\n",
    "    res.data.numpy(),\n",
    "    [[0.3061263], [0.3991169], [0.0790827], [0.5]],\n",
    "    decimal=7)"
   ]
  }
 ],
 "metadata": {
  "kernelspec": {
   "display_name": "Python 3",
   "language": "python",
   "name": "python3"
  },
  "language_info": {
   "codemirror_mode": {
    "name": "ipython",
    "version": 3
   },
   "file_extension": ".py",
   "mimetype": "text/x-python",
   "name": "python",
   "nbconvert_exporter": "python",
   "pygments_lexer": "ipython3",
   "version": "3.6.3"
  }
 },
 "nbformat": 4,
 "nbformat_minor": 2
}
